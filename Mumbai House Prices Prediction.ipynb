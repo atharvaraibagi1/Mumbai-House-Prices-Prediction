{
 "cells": [
  {
   "cell_type": "code",
   "execution_count": 1,
   "id": "d870d094",
   "metadata": {},
   "outputs": [],
   "source": [
    "import pandas as pd\n",
    "import numpy as np\n",
    "import matplotlib.pyplot as plt\n",
    "import seaborn as sns\n",
    "\n",
    "from sklearn.model_selection import train_test_split\n",
    "from sklearn.linear_model import LinearRegression\n",
    "from sklearn.linear_model import LassoCV\n",
    "from sklearn.linear_model import RidgeCV\n",
    "from sklearn.ensemble import RandomForestRegressor\n",
    "from sklearn.tree import DecisionTreeRegressor\n",
    "\n",
    "from sklearn.model_selection import ShuffleSplit\n",
    "from sklearn.model_selection import cross_val_score\n",
    "from xgboost import XGBRegressor\n",
    "from sklearn.preprocessing import StandardScaler\n",
    "from sklearn.model_selection import GridSearchCV\n",
    "from sklearn.model_selection import RandomizedSearchCV\n",
    "from sklearn.metrics import r2_score\n",
    "import warnings\n",
    "import pickle\n",
    "warnings.filterwarnings(\"ignore\")"
   ]
  },
  {
   "cell_type": "code",
   "execution_count": 2,
   "id": "a4ed30b7",
   "metadata": {},
   "outputs": [
    {
     "data": {
      "text/html": [
       "<div>\n",
       "<style scoped>\n",
       "    .dataframe tbody tr th:only-of-type {\n",
       "        vertical-align: middle;\n",
       "    }\n",
       "\n",
       "    .dataframe tbody tr th {\n",
       "        vertical-align: top;\n",
       "    }\n",
       "\n",
       "    .dataframe thead th {\n",
       "        text-align: right;\n",
       "    }\n",
       "</style>\n",
       "<table border=\"1\" class=\"dataframe\">\n",
       "  <thead>\n",
       "    <tr style=\"text-align: right;\">\n",
       "      <th></th>\n",
       "      <th>Unnamed: 0</th>\n",
       "      <th>Price</th>\n",
       "      <th>Area</th>\n",
       "      <th>Location</th>\n",
       "      <th>No. of Bedrooms</th>\n",
       "      <th>New/Resale</th>\n",
       "      <th>Gymnasium</th>\n",
       "      <th>Lift Available</th>\n",
       "      <th>Car Parking</th>\n",
       "      <th>Maintenance Staff</th>\n",
       "      <th>24x7 Security</th>\n",
       "      <th>Children's Play Area</th>\n",
       "      <th>Clubhouse</th>\n",
       "      <th>Intercom</th>\n",
       "      <th>Landscaped Gardens</th>\n",
       "      <th>Indoor Games</th>\n",
       "      <th>Gas Connection</th>\n",
       "      <th>Jogging Track</th>\n",
       "      <th>Swimming Pool</th>\n",
       "    </tr>\n",
       "  </thead>\n",
       "  <tbody>\n",
       "    <tr>\n",
       "      <th>0</th>\n",
       "      <td>0</td>\n",
       "      <td>4850000</td>\n",
       "      <td>720</td>\n",
       "      <td>Kharghar</td>\n",
       "      <td>1</td>\n",
       "      <td>0</td>\n",
       "      <td>0</td>\n",
       "      <td>1</td>\n",
       "      <td>1</td>\n",
       "      <td>1</td>\n",
       "      <td>1</td>\n",
       "      <td>0</td>\n",
       "      <td>0</td>\n",
       "      <td>0</td>\n",
       "      <td>0</td>\n",
       "      <td>0</td>\n",
       "      <td>0</td>\n",
       "      <td>0</td>\n",
       "      <td>0</td>\n",
       "    </tr>\n",
       "    <tr>\n",
       "      <th>1</th>\n",
       "      <td>1</td>\n",
       "      <td>4500000</td>\n",
       "      <td>600</td>\n",
       "      <td>Kharghar</td>\n",
       "      <td>1</td>\n",
       "      <td>0</td>\n",
       "      <td>1</td>\n",
       "      <td>1</td>\n",
       "      <td>1</td>\n",
       "      <td>1</td>\n",
       "      <td>1</td>\n",
       "      <td>0</td>\n",
       "      <td>1</td>\n",
       "      <td>0</td>\n",
       "      <td>0</td>\n",
       "      <td>0</td>\n",
       "      <td>0</td>\n",
       "      <td>1</td>\n",
       "      <td>1</td>\n",
       "    </tr>\n",
       "    <tr>\n",
       "      <th>2</th>\n",
       "      <td>2</td>\n",
       "      <td>6700000</td>\n",
       "      <td>650</td>\n",
       "      <td>Kharghar</td>\n",
       "      <td>1</td>\n",
       "      <td>0</td>\n",
       "      <td>1</td>\n",
       "      <td>1</td>\n",
       "      <td>1</td>\n",
       "      <td>1</td>\n",
       "      <td>1</td>\n",
       "      <td>1</td>\n",
       "      <td>1</td>\n",
       "      <td>1</td>\n",
       "      <td>0</td>\n",
       "      <td>0</td>\n",
       "      <td>0</td>\n",
       "      <td>1</td>\n",
       "      <td>1</td>\n",
       "    </tr>\n",
       "    <tr>\n",
       "      <th>3</th>\n",
       "      <td>3</td>\n",
       "      <td>4500000</td>\n",
       "      <td>650</td>\n",
       "      <td>Kharghar</td>\n",
       "      <td>1</td>\n",
       "      <td>0</td>\n",
       "      <td>0</td>\n",
       "      <td>1</td>\n",
       "      <td>1</td>\n",
       "      <td>1</td>\n",
       "      <td>1</td>\n",
       "      <td>0</td>\n",
       "      <td>0</td>\n",
       "      <td>1</td>\n",
       "      <td>1</td>\n",
       "      <td>0</td>\n",
       "      <td>0</td>\n",
       "      <td>0</td>\n",
       "      <td>0</td>\n",
       "    </tr>\n",
       "    <tr>\n",
       "      <th>4</th>\n",
       "      <td>4</td>\n",
       "      <td>5000000</td>\n",
       "      <td>665</td>\n",
       "      <td>Kharghar</td>\n",
       "      <td>1</td>\n",
       "      <td>0</td>\n",
       "      <td>0</td>\n",
       "      <td>1</td>\n",
       "      <td>1</td>\n",
       "      <td>1</td>\n",
       "      <td>1</td>\n",
       "      <td>0</td>\n",
       "      <td>0</td>\n",
       "      <td>1</td>\n",
       "      <td>1</td>\n",
       "      <td>0</td>\n",
       "      <td>0</td>\n",
       "      <td>0</td>\n",
       "      <td>0</td>\n",
       "    </tr>\n",
       "  </tbody>\n",
       "</table>\n",
       "</div>"
      ],
      "text/plain": [
       "   Unnamed: 0    Price  Area  Location  No. of Bedrooms  New/Resale  \\\n",
       "0           0  4850000   720  Kharghar                1           0   \n",
       "1           1  4500000   600  Kharghar                1           0   \n",
       "2           2  6700000   650  Kharghar                1           0   \n",
       "3           3  4500000   650  Kharghar                1           0   \n",
       "4           4  5000000   665  Kharghar                1           0   \n",
       "\n",
       "   Gymnasium  Lift Available  Car Parking  Maintenance Staff  24x7 Security  \\\n",
       "0          0               1            1                  1              1   \n",
       "1          1               1            1                  1              1   \n",
       "2          1               1            1                  1              1   \n",
       "3          0               1            1                  1              1   \n",
       "4          0               1            1                  1              1   \n",
       "\n",
       "   Children's Play Area  Clubhouse  Intercom  Landscaped Gardens  \\\n",
       "0                     0          0         0                   0   \n",
       "1                     0          1         0                   0   \n",
       "2                     1          1         1                   0   \n",
       "3                     0          0         1                   1   \n",
       "4                     0          0         1                   1   \n",
       "\n",
       "   Indoor Games  Gas Connection  Jogging Track  Swimming Pool  \n",
       "0             0               0              0              0  \n",
       "1             0               0              1              1  \n",
       "2             0               0              1              1  \n",
       "3             0               0              0              0  \n",
       "4             0               0              0              0  "
      ]
     },
     "execution_count": 2,
     "metadata": {},
     "output_type": "execute_result"
    }
   ],
   "source": [
    "data = pd.read_csv(\"Mumbai1.csv\")\n",
    "data.head()"
   ]
  },
  {
   "cell_type": "code",
   "execution_count": 3,
   "id": "e3a93963",
   "metadata": {},
   "outputs": [
    {
     "data": {
      "text/plain": [
       "(6347, 19)"
      ]
     },
     "execution_count": 3,
     "metadata": {},
     "output_type": "execute_result"
    }
   ],
   "source": [
    "data.shape"
   ]
  },
  {
   "cell_type": "code",
   "execution_count": 4,
   "id": "f9b957ea",
   "metadata": {},
   "outputs": [
    {
     "data": {
      "text/html": [
       "<div>\n",
       "<style scoped>\n",
       "    .dataframe tbody tr th:only-of-type {\n",
       "        vertical-align: middle;\n",
       "    }\n",
       "\n",
       "    .dataframe tbody tr th {\n",
       "        vertical-align: top;\n",
       "    }\n",
       "\n",
       "    .dataframe thead th {\n",
       "        text-align: right;\n",
       "    }\n",
       "</style>\n",
       "<table border=\"1\" class=\"dataframe\">\n",
       "  <thead>\n",
       "    <tr style=\"text-align: right;\">\n",
       "      <th></th>\n",
       "      <th>Price</th>\n",
       "      <th>Area</th>\n",
       "      <th>Location</th>\n",
       "      <th>No. of Bedrooms</th>\n",
       "      <th>New/Resale</th>\n",
       "      <th>Gymnasium</th>\n",
       "      <th>Lift Available</th>\n",
       "      <th>Car Parking</th>\n",
       "      <th>Maintenance Staff</th>\n",
       "      <th>24x7 Security</th>\n",
       "      <th>Children's Play Area</th>\n",
       "      <th>Clubhouse</th>\n",
       "      <th>Intercom</th>\n",
       "      <th>Landscaped Gardens</th>\n",
       "      <th>Indoor Games</th>\n",
       "      <th>Gas Connection</th>\n",
       "      <th>Jogging Track</th>\n",
       "      <th>Swimming Pool</th>\n",
       "    </tr>\n",
       "  </thead>\n",
       "  <tbody>\n",
       "    <tr>\n",
       "      <th>0</th>\n",
       "      <td>4850000</td>\n",
       "      <td>720</td>\n",
       "      <td>Kharghar</td>\n",
       "      <td>1</td>\n",
       "      <td>0</td>\n",
       "      <td>0</td>\n",
       "      <td>1</td>\n",
       "      <td>1</td>\n",
       "      <td>1</td>\n",
       "      <td>1</td>\n",
       "      <td>0</td>\n",
       "      <td>0</td>\n",
       "      <td>0</td>\n",
       "      <td>0</td>\n",
       "      <td>0</td>\n",
       "      <td>0</td>\n",
       "      <td>0</td>\n",
       "      <td>0</td>\n",
       "    </tr>\n",
       "    <tr>\n",
       "      <th>1</th>\n",
       "      <td>4500000</td>\n",
       "      <td>600</td>\n",
       "      <td>Kharghar</td>\n",
       "      <td>1</td>\n",
       "      <td>0</td>\n",
       "      <td>1</td>\n",
       "      <td>1</td>\n",
       "      <td>1</td>\n",
       "      <td>1</td>\n",
       "      <td>1</td>\n",
       "      <td>0</td>\n",
       "      <td>1</td>\n",
       "      <td>0</td>\n",
       "      <td>0</td>\n",
       "      <td>0</td>\n",
       "      <td>0</td>\n",
       "      <td>1</td>\n",
       "      <td>1</td>\n",
       "    </tr>\n",
       "    <tr>\n",
       "      <th>2</th>\n",
       "      <td>6700000</td>\n",
       "      <td>650</td>\n",
       "      <td>Kharghar</td>\n",
       "      <td>1</td>\n",
       "      <td>0</td>\n",
       "      <td>1</td>\n",
       "      <td>1</td>\n",
       "      <td>1</td>\n",
       "      <td>1</td>\n",
       "      <td>1</td>\n",
       "      <td>1</td>\n",
       "      <td>1</td>\n",
       "      <td>1</td>\n",
       "      <td>0</td>\n",
       "      <td>0</td>\n",
       "      <td>0</td>\n",
       "      <td>1</td>\n",
       "      <td>1</td>\n",
       "    </tr>\n",
       "    <tr>\n",
       "      <th>3</th>\n",
       "      <td>4500000</td>\n",
       "      <td>650</td>\n",
       "      <td>Kharghar</td>\n",
       "      <td>1</td>\n",
       "      <td>0</td>\n",
       "      <td>0</td>\n",
       "      <td>1</td>\n",
       "      <td>1</td>\n",
       "      <td>1</td>\n",
       "      <td>1</td>\n",
       "      <td>0</td>\n",
       "      <td>0</td>\n",
       "      <td>1</td>\n",
       "      <td>1</td>\n",
       "      <td>0</td>\n",
       "      <td>0</td>\n",
       "      <td>0</td>\n",
       "      <td>0</td>\n",
       "    </tr>\n",
       "    <tr>\n",
       "      <th>4</th>\n",
       "      <td>5000000</td>\n",
       "      <td>665</td>\n",
       "      <td>Kharghar</td>\n",
       "      <td>1</td>\n",
       "      <td>0</td>\n",
       "      <td>0</td>\n",
       "      <td>1</td>\n",
       "      <td>1</td>\n",
       "      <td>1</td>\n",
       "      <td>1</td>\n",
       "      <td>0</td>\n",
       "      <td>0</td>\n",
       "      <td>1</td>\n",
       "      <td>1</td>\n",
       "      <td>0</td>\n",
       "      <td>0</td>\n",
       "      <td>0</td>\n",
       "      <td>0</td>\n",
       "    </tr>\n",
       "  </tbody>\n",
       "</table>\n",
       "</div>"
      ],
      "text/plain": [
       "     Price  Area  Location  No. of Bedrooms  New/Resale  Gymnasium  \\\n",
       "0  4850000   720  Kharghar                1           0          0   \n",
       "1  4500000   600  Kharghar                1           0          1   \n",
       "2  6700000   650  Kharghar                1           0          1   \n",
       "3  4500000   650  Kharghar                1           0          0   \n",
       "4  5000000   665  Kharghar                1           0          0   \n",
       "\n",
       "   Lift Available  Car Parking  Maintenance Staff  24x7 Security  \\\n",
       "0               1            1                  1              1   \n",
       "1               1            1                  1              1   \n",
       "2               1            1                  1              1   \n",
       "3               1            1                  1              1   \n",
       "4               1            1                  1              1   \n",
       "\n",
       "   Children's Play Area  Clubhouse  Intercom  Landscaped Gardens  \\\n",
       "0                     0          0         0                   0   \n",
       "1                     0          1         0                   0   \n",
       "2                     1          1         1                   0   \n",
       "3                     0          0         1                   1   \n",
       "4                     0          0         1                   1   \n",
       "\n",
       "   Indoor Games  Gas Connection  Jogging Track  Swimming Pool  \n",
       "0             0               0              0              0  \n",
       "1             0               0              1              1  \n",
       "2             0               0              1              1  \n",
       "3             0               0              0              0  \n",
       "4             0               0              0              0  "
      ]
     },
     "execution_count": 4,
     "metadata": {},
     "output_type": "execute_result"
    }
   ],
   "source": [
    "data.drop([\"Unnamed: 0\"],axis=1, inplace=True)\n",
    "data.head()"
   ]
  },
  {
   "cell_type": "code",
   "execution_count": 5,
   "id": "b9f668d8",
   "metadata": {},
   "outputs": [
    {
     "data": {
      "text/plain": [
       "Price                   0\n",
       "Area                    0\n",
       "Location                0\n",
       "No. of Bedrooms         0\n",
       "New/Resale              0\n",
       "Gymnasium               0\n",
       "Lift Available          0\n",
       "Car Parking             0\n",
       "Maintenance Staff       0\n",
       "24x7 Security           0\n",
       "Children's Play Area    0\n",
       "Clubhouse               0\n",
       "Intercom                0\n",
       "Landscaped Gardens      0\n",
       "Indoor Games            0\n",
       "Gas Connection          0\n",
       "Jogging Track           0\n",
       "Swimming Pool           0\n",
       "dtype: int64"
      ]
     },
     "execution_count": 5,
     "metadata": {},
     "output_type": "execute_result"
    }
   ],
   "source": [
    "data.isna().sum()"
   ]
  },
  {
   "cell_type": "code",
   "execution_count": 6,
   "id": "5d520406",
   "metadata": {},
   "outputs": [
    {
     "name": "stdout",
     "output_type": "stream",
     "text": [
      "Price : count    6.347000e+03\n",
      "mean     1.515401e+07\n",
      "std      2.015943e+07\n",
      "min      2.000000e+06\n",
      "25%      5.300000e+06\n",
      "50%      9.500000e+06\n",
      "75%      1.750000e+07\n",
      "max      4.200000e+08\n",
      "Name: Price, dtype: float64\n",
      "\n",
      "Area : count    6347.000000\n",
      "mean     1004.327084\n",
      "std       556.375703\n",
      "min       200.000000\n",
      "25%       650.000000\n",
      "50%       905.000000\n",
      "75%      1182.000000\n",
      "max      8511.000000\n",
      "Name: Area, dtype: float64\n",
      "\n",
      "Location : count         6347\n",
      "unique         413\n",
      "top       Kharghar\n",
      "freq           533\n",
      "Name: Location, dtype: object\n",
      "\n",
      "No. of Bedrooms : count    6347.000000\n",
      "mean        1.910036\n",
      "std         0.863304\n",
      "min         1.000000\n",
      "25%         1.000000\n",
      "50%         2.000000\n",
      "75%         2.000000\n",
      "max         7.000000\n",
      "Name: No. of Bedrooms, dtype: float64\n",
      "\n",
      "New/Resale : count    6347.000000\n",
      "mean        0.341736\n",
      "std         0.474329\n",
      "min         0.000000\n",
      "25%         0.000000\n",
      "50%         0.000000\n",
      "75%         1.000000\n",
      "max         1.000000\n",
      "Name: New/Resale, dtype: float64\n",
      "\n",
      "Gymnasium : count    6347.000000\n",
      "mean        0.581377\n",
      "std         0.493372\n",
      "min         0.000000\n",
      "25%         0.000000\n",
      "50%         1.000000\n",
      "75%         1.000000\n",
      "max         1.000000\n",
      "Name: Gymnasium, dtype: float64\n",
      "\n",
      "Lift Available : count    6347.000000\n",
      "mean        0.801481\n",
      "std         0.398916\n",
      "min         0.000000\n",
      "25%         1.000000\n",
      "50%         1.000000\n",
      "75%         1.000000\n",
      "max         1.000000\n",
      "Name: Lift Available, dtype: float64\n",
      "\n",
      "Car Parking : count    6347.000000\n",
      "mean        0.562943\n",
      "std         0.496061\n",
      "min         0.000000\n",
      "25%         0.000000\n",
      "50%         1.000000\n",
      "75%         1.000000\n",
      "max         1.000000\n",
      "Name: Car Parking, dtype: float64\n",
      "\n",
      "Maintenance Staff : count    6347.000000\n",
      "mean        0.281393\n",
      "std         0.449714\n",
      "min         0.000000\n",
      "25%         0.000000\n",
      "50%         0.000000\n",
      "75%         1.000000\n",
      "max         1.000000\n",
      "Name: Maintenance Staff, dtype: float64\n",
      "\n",
      "24x7 Security : count    6347.000000\n",
      "mean        0.562943\n",
      "std         0.496061\n",
      "min         0.000000\n",
      "25%         0.000000\n",
      "50%         1.000000\n",
      "75%         1.000000\n",
      "max         1.000000\n",
      "Name: 24x7 Security, dtype: float64\n",
      "\n",
      "Children's Play Area : count    6347.000000\n",
      "mean        0.559319\n",
      "std         0.496508\n",
      "min         0.000000\n",
      "25%         0.000000\n",
      "50%         1.000000\n",
      "75%         1.000000\n",
      "max         1.000000\n",
      "Name: Children's Play Area, dtype: float64\n",
      "\n",
      "Clubhouse : count    6347.000000\n",
      "mean        0.496297\n",
      "std         0.500026\n",
      "min         0.000000\n",
      "25%         0.000000\n",
      "50%         0.000000\n",
      "75%         1.000000\n",
      "max         1.000000\n",
      "Name: Clubhouse, dtype: float64\n",
      "\n",
      "Intercom : count    6347.000000\n",
      "mean        0.484796\n",
      "std         0.499808\n",
      "min         0.000000\n",
      "25%         0.000000\n",
      "50%         0.000000\n",
      "75%         1.000000\n",
      "max         1.000000\n",
      "Name: Intercom, dtype: float64\n",
      "\n",
      "Landscaped Gardens : count    6347.000000\n",
      "mean        0.360643\n",
      "std         0.480225\n",
      "min         0.000000\n",
      "25%         0.000000\n",
      "50%         0.000000\n",
      "75%         1.000000\n",
      "max         1.000000\n",
      "Name: Landscaped Gardens, dtype: float64\n",
      "\n",
      "Indoor Games : count    6347.000000\n",
      "mean        0.219631\n",
      "std         0.414029\n",
      "min         0.000000\n",
      "25%         0.000000\n",
      "50%         0.000000\n",
      "75%         0.000000\n",
      "max         1.000000\n",
      "Name: Indoor Games, dtype: float64\n",
      "\n",
      "Gas Connection : count    6347.000000\n",
      "mean        0.243107\n",
      "std         0.428993\n",
      "min         0.000000\n",
      "25%         0.000000\n",
      "50%         0.000000\n",
      "75%         0.000000\n",
      "max         1.000000\n",
      "Name: Gas Connection, dtype: float64\n",
      "\n",
      "Jogging Track : count    6347.000000\n",
      "mean        0.381440\n",
      "std         0.485778\n",
      "min         0.000000\n",
      "25%         0.000000\n",
      "50%         0.000000\n",
      "75%         1.000000\n",
      "max         1.000000\n",
      "Name: Jogging Track, dtype: float64\n",
      "\n",
      "Swimming Pool : count    6347.000000\n",
      "mean        0.458327\n",
      "std         0.498300\n",
      "min         0.000000\n",
      "25%         0.000000\n",
      "50%         0.000000\n",
      "75%         1.000000\n",
      "max         1.000000\n",
      "Name: Swimming Pool, dtype: float64\n",
      "\n"
     ]
    }
   ],
   "source": [
    "for col in data:\n",
    "        print(f'{col} : {data[col].describe()}\\n')"
   ]
  },
  {
   "cell_type": "code",
   "execution_count": 7,
   "id": "40ab1366",
   "metadata": {},
   "outputs": [
    {
     "data": {
      "image/png": "[encoded data removed]",
      "text/plain": [
       "<Figure size 432x288 with 1 Axes>"
      ]
     },
     "metadata": {
      "needs_background": "light"
     },
     "output_type": "display_data"
    }
   ],
   "source": [
    "sns.histplot(data[\"Area\"]);"
   ]
  },
  {
   "cell_type": "code",
   "execution_count": 8,
   "id": "bf4aa3a0",
   "metadata": {},
   "outputs": [
    {
     "data": {
      "text/plain": [
       "324"
      ]
     },
     "execution_count": 8,
     "metadata": {},
     "output_type": "execute_result"
    }
   ],
   "source": [
    "len(data[data[\"Area\"]>1885])"
   ]
  },
  {
   "cell_type": "code",
   "execution_count": 9,
   "id": "2afc50ed",
   "metadata": {},
   "outputs": [
    {
     "data": {
      "image/png": "[encoded data removed]",
      "text/plain": [
       "<Figure size 432x288 with 1 Axes>"
      ]
     },
     "metadata": {
      "needs_background": "light"
     },
     "output_type": "display_data"
    }
   ],
   "source": [
    "sns.boxplot(data[\"Area\"]);"
   ]
  },
  {
   "cell_type": "code",
   "execution_count": 10,
   "id": "42f53ec1",
   "metadata": {},
   "outputs": [
    {
     "data": {
      "text/plain": [
       "324"
      ]
     },
     "execution_count": 10,
     "metadata": {},
     "output_type": "execute_result"
    }
   ],
   "source": [
    "data2 = data[data[\"Area\"]<=1885]\n",
    "data.shape[0] - data2.shape[0]"
   ]
  },
  {
   "cell_type": "code",
   "execution_count": 11,
   "id": "1985a0a5",
   "metadata": {},
   "outputs": [
    {
     "data": {
      "image/png": "[encoded data removed]",
      "text/plain": [
       "<Figure size 432x288 with 1 Axes>"
      ]
     },
     "metadata": {
      "needs_background": "light"
     },
     "output_type": "display_data"
    }
   ],
   "source": [
    "sns.boxplot(data2[\"Area\"]);"
   ]
  },
  {
   "cell_type": "code",
   "execution_count": 12,
   "id": "2a1b2559",
   "metadata": {},
   "outputs": [
    {
     "data": {
      "image/png": "[encoded data removed]",
      "text/plain": [
       "<Figure size 432x288 with 1 Axes>"
      ]
     },
     "metadata": {
      "needs_background": "light"
     },
     "output_type": "display_data"
    }
   ],
   "source": [
    "sns.histplot(data2[\"Area\"]);"
   ]
  },
  {
   "cell_type": "code",
   "execution_count": 13,
   "id": "25abd644",
   "metadata": {},
   "outputs": [
    {
     "data": {
      "text/html": [
       "<div>\n",
       "<style scoped>\n",
       "    .dataframe tbody tr th:only-of-type {\n",
       "        vertical-align: middle;\n",
       "    }\n",
       "\n",
       "    .dataframe tbody tr th {\n",
       "        vertical-align: top;\n",
       "    }\n",
       "\n",
       "    .dataframe thead th {\n",
       "        text-align: right;\n",
       "    }\n",
       "</style>\n",
       "<table border=\"1\" class=\"dataframe\">\n",
       "  <thead>\n",
       "    <tr style=\"text-align: right;\">\n",
       "      <th></th>\n",
       "      <th>Price</th>\n",
       "      <th>Area</th>\n",
       "      <th>Location</th>\n",
       "      <th>No. of Bedrooms</th>\n",
       "      <th>New/Resale</th>\n",
       "      <th>Gymnasium</th>\n",
       "      <th>Lift Available</th>\n",
       "      <th>Car Parking</th>\n",
       "      <th>Maintenance Staff</th>\n",
       "      <th>24x7 Security</th>\n",
       "      <th>Children's Play Area</th>\n",
       "      <th>Clubhouse</th>\n",
       "      <th>Intercom</th>\n",
       "      <th>Landscaped Gardens</th>\n",
       "      <th>Indoor Games</th>\n",
       "      <th>Gas Connection</th>\n",
       "      <th>Jogging Track</th>\n",
       "      <th>Swimming Pool</th>\n",
       "    </tr>\n",
       "  </thead>\n",
       "  <tbody>\n",
       "    <tr>\n",
       "      <th>0</th>\n",
       "      <td>4850000</td>\n",
       "      <td>720</td>\n",
       "      <td>Kharghar</td>\n",
       "      <td>1</td>\n",
       "      <td>0</td>\n",
       "      <td>0</td>\n",
       "      <td>1</td>\n",
       "      <td>1</td>\n",
       "      <td>1</td>\n",
       "      <td>1</td>\n",
       "      <td>0</td>\n",
       "      <td>0</td>\n",
       "      <td>0</td>\n",
       "      <td>0</td>\n",
       "      <td>0</td>\n",
       "      <td>0</td>\n",
       "      <td>0</td>\n",
       "      <td>0</td>\n",
       "    </tr>\n",
       "    <tr>\n",
       "      <th>1</th>\n",
       "      <td>4500000</td>\n",
       "      <td>600</td>\n",
       "      <td>Kharghar</td>\n",
       "      <td>1</td>\n",
       "      <td>0</td>\n",
       "      <td>1</td>\n",
       "      <td>1</td>\n",
       "      <td>1</td>\n",
       "      <td>1</td>\n",
       "      <td>1</td>\n",
       "      <td>0</td>\n",
       "      <td>1</td>\n",
       "      <td>0</td>\n",
       "      <td>0</td>\n",
       "      <td>0</td>\n",
       "      <td>0</td>\n",
       "      <td>1</td>\n",
       "      <td>1</td>\n",
       "    </tr>\n",
       "    <tr>\n",
       "      <th>2</th>\n",
       "      <td>6700000</td>\n",
       "      <td>650</td>\n",
       "      <td>Kharghar</td>\n",
       "      <td>1</td>\n",
       "      <td>0</td>\n",
       "      <td>1</td>\n",
       "      <td>1</td>\n",
       "      <td>1</td>\n",
       "      <td>1</td>\n",
       "      <td>1</td>\n",
       "      <td>1</td>\n",
       "      <td>1</td>\n",
       "      <td>1</td>\n",
       "      <td>0</td>\n",
       "      <td>0</td>\n",
       "      <td>0</td>\n",
       "      <td>1</td>\n",
       "      <td>1</td>\n",
       "    </tr>\n",
       "    <tr>\n",
       "      <th>3</th>\n",
       "      <td>4500000</td>\n",
       "      <td>650</td>\n",
       "      <td>Kharghar</td>\n",
       "      <td>1</td>\n",
       "      <td>0</td>\n",
       "      <td>0</td>\n",
       "      <td>1</td>\n",
       "      <td>1</td>\n",
       "      <td>1</td>\n",
       "      <td>1</td>\n",
       "      <td>0</td>\n",
       "      <td>0</td>\n",
       "      <td>1</td>\n",
       "      <td>1</td>\n",
       "      <td>0</td>\n",
       "      <td>0</td>\n",
       "      <td>0</td>\n",
       "      <td>0</td>\n",
       "    </tr>\n",
       "    <tr>\n",
       "      <th>4</th>\n",
       "      <td>5000000</td>\n",
       "      <td>665</td>\n",
       "      <td>Kharghar</td>\n",
       "      <td>1</td>\n",
       "      <td>0</td>\n",
       "      <td>0</td>\n",
       "      <td>1</td>\n",
       "      <td>1</td>\n",
       "      <td>1</td>\n",
       "      <td>1</td>\n",
       "      <td>0</td>\n",
       "      <td>0</td>\n",
       "      <td>1</td>\n",
       "      <td>1</td>\n",
       "      <td>0</td>\n",
       "      <td>0</td>\n",
       "      <td>0</td>\n",
       "      <td>0</td>\n",
       "    </tr>\n",
       "  </tbody>\n",
       "</table>\n",
       "</div>"
      ],
      "text/plain": [
       "     Price  Area  Location  No. of Bedrooms  New/Resale  Gymnasium  \\\n",
       "0  4850000   720  Kharghar                1           0          0   \n",
       "1  4500000   600  Kharghar                1           0          1   \n",
       "2  6700000   650  Kharghar                1           0          1   \n",
       "3  4500000   650  Kharghar                1           0          0   \n",
       "4  5000000   665  Kharghar                1           0          0   \n",
       "\n",
       "   Lift Available  Car Parking  Maintenance Staff  24x7 Security  \\\n",
       "0               1            1                  1              1   \n",
       "1               1            1                  1              1   \n",
       "2               1            1                  1              1   \n",
       "3               1            1                  1              1   \n",
       "4               1            1                  1              1   \n",
       "\n",
       "   Children's Play Area  Clubhouse  Intercom  Landscaped Gardens  \\\n",
       "0                     0          0         0                   0   \n",
       "1                     0          1         0                   0   \n",
       "2                     1          1         1                   0   \n",
       "3                     0          0         1                   1   \n",
       "4                     0          0         1                   1   \n",
       "\n",
       "   Indoor Games  Gas Connection  Jogging Track  Swimming Pool  \n",
       "0             0               0              0              0  \n",
       "1             0               0              1              1  \n",
       "2             0               0              1              1  \n",
       "3             0               0              0              0  \n",
       "4             0               0              0              0  "
      ]
     },
     "execution_count": 13,
     "metadata": {},
     "output_type": "execute_result"
    }
   ],
   "source": [
    "data2.head()"
   ]
  },
  {
   "cell_type": "code",
   "execution_count": 14,
   "id": "98458042",
   "metadata": {},
   "outputs": [
    {
     "name": "stdout",
     "output_type": "stream",
     "text": [
      "Kharghar                  509\n",
      "Thane West                406\n",
      "Mira Road East            387\n",
      "Ulwe                      314\n",
      "Kalyan West               176\n",
      "                         ... \n",
      "Sector 2 Ulwe               1\n",
      "Govind nagar                1\n",
      "Krishanlal Marwah Marg      1\n",
      "Sector-9 Ulwe               1\n",
      "Padle Gaon                  1\n",
      "Name: Location, Length: 396, dtype: int64\n"
     ]
    }
   ],
   "source": [
    "print(data2[\"Location\"].value_counts())"
   ]
  },
  {
   "cell_type": "code",
   "execution_count": 15,
   "id": "430ac2fc",
   "metadata": {},
   "outputs": [],
   "source": [
    "value_counts_of_locations = data.Location.value_counts(ascending=False)"
   ]
  },
  {
   "cell_type": "code",
   "execution_count": 16,
   "id": "e23cea72",
   "metadata": {},
   "outputs": [
    {
     "data": {
      "text/plain": [
       "177"
      ]
     },
     "execution_count": 16,
     "metadata": {},
     "output_type": "execute_result"
    }
   ],
   "source": [
    "len(value_counts_of_locations[value_counts_of_locations==1])"
   ]
  },
  {
   "cell_type": "code",
   "execution_count": 17,
   "id": "07369b5d",
   "metadata": {},
   "outputs": [],
   "source": [
    "location_counts_1 = value_counts_of_locations[value_counts_of_locations==1]"
   ]
  },
  {
   "cell_type": "code",
   "execution_count": 18,
   "id": "a9f2a132",
   "metadata": {},
   "outputs": [
    {
     "data": {
      "text/plain": [
       "Vichumbe             1\n",
       "Sector 21 Ulwe       1\n",
       "Gulmohar Road        1\n",
       "Sector 19A Nerul     1\n",
       "Vile Parle E         1\n",
       "                    ..\n",
       "worli sea face       1\n",
       "Sea Face             1\n",
       "Shiv Sagar Estate    1\n",
       "Natakwala Lane       1\n",
       "Padle Gaon           1\n",
       "Name: Location, Length: 177, dtype: int64"
      ]
     },
     "execution_count": 18,
     "metadata": {},
     "output_type": "execute_result"
    }
   ],
   "source": [
    "location_counts_1"
   ]
  },
  {
   "cell_type": "code",
   "execution_count": 19,
   "id": "50183102",
   "metadata": {},
   "outputs": [],
   "source": [
    "data2[\"Location\"] = data2[\"Location\"].apply(lambda x : \"other\" if x in location_counts_1 else x)"
   ]
  },
  {
   "cell_type": "code",
   "execution_count": 20,
   "id": "0cb402e0",
   "metadata": {},
   "outputs": [
    {
     "data": {
      "text/plain": [
       "179"
      ]
     },
     "execution_count": 20,
     "metadata": {},
     "output_type": "execute_result"
    }
   ],
   "source": [
    "data.Location.nunique() - data2.Location.nunique()"
   ]
  },
  {
   "cell_type": "code",
   "execution_count": 21,
   "id": "c9672a2e",
   "metadata": {},
   "outputs": [
    {
     "data": {
      "text/plain": [
       "array(['Kharghar', 'other', 'Sector 18 Kharghar', 'Sector 20 Kharghar',\n",
       "       'Sector 15 Kharghar', 'Dombivali', 'Prabhadevi', 'Jogeshwari West',\n",
       "       'Kalyan East', 'Malad East', 'Virar East', 'Virar', 'Malad West',\n",
       "       'Borivali East', 'Mira Road East', 'Goregaon West',\n",
       "       'Kandivali West', 'Borivali West', 'Kandivali East',\n",
       "       'Andheri East', 'Goregaon East', 'Wadala', 'Ulwe', 'Dahisar',\n",
       "       'kandivali', 'Goregaon', 'Bhandup West',\n",
       "       'thakur village kandivali east', 'Santacruz West', 'Kanjurmarg',\n",
       "       'Marol', 'Parel', 'Lower Parel', 'Jogeshwari East', 'Chembur East',\n",
       "       'Mulund', 'Nalasopara West', 'raheja vihar', 'Powai Lake',\n",
       "       'MHADA Colony 20', 'Tolaram Colony', 'Taloja', 'Vangani',\n",
       "       'Sector 5 Ulwe', 'Sector 17 Ulwe', 'Sector9 Kamothe',\n",
       "       'Sector 19 Kharghar', 'Navi Basti', 'Sector12 Kamothe',\n",
       "       'Sector 21 Kamothe', 'taloja panchanand', 'Virar West', 'Chembur',\n",
       "       'Sector 20 Kamothe', 'Sector 22 Kamothe', 'Sector 18 Kamothe',\n",
       "       'Sector-18 Ulwe', 'Sector-12 Kamothe', 'Kurla', 'Deonar', 'Thane',\n",
       "       'Jankalyan Nagar', 'Badlapur', 'Ambarnath', 'Ambernath West',\n",
       "       'Kamothe', 'Kamothe Sector 16', 'Almeida Park', 'Khar',\n",
       "       'Bandra West', 'Palghar', 'Sector 21 Kharghar',\n",
       "       'Sector 12 Kharghar', 'Vasai east', 'Nahur', 'Badlapur West',\n",
       "       'Thane West', 'Panvel', 'Kalyan', 'Badlapur East', 'Juhu',\n",
       "       'Naigaon East', 'Bandra East', 'Dronagiri', 'Nerul', 'Karanjade',\n",
       "       'Sanpada', 'Sector-8 Ulwe', 'Sector-3 Ulwe', 'Sector 23 Ulwe',\n",
       "       'Bhiwandi', 'Vasai', 'Nala Sopara', 'Ghatkopar', 'Breach Candy',\n",
       "       'Worli South Mumbai', 'Koparkhairane Station Road',\n",
       "       'Kopar Khairane Sector 19A', 'Koper Khairane', 'Magathane',\n",
       "       'Ambernath East', 'Dattapada', 'Rajendra Nagar',\n",
       "       'Samata Nagar Thakur Village', 'Mira Road and Beyond',\n",
       "       'Pant Nagar', 'mumbai', 'Four Bungalows', 'kolshet',\n",
       "       'Hiranandani Meadows', 'Petali', 'Mumbai Agra National Highway',\n",
       "       'vasant vihar thane west', 'Kalyan West', 'Shirgaon', 'Pokhran 2',\n",
       "       'Sector 10', 'Tardeo', 'Napeansea Road', 'Mahalaxmi',\n",
       "       'Dahisar West', 'Mulund West', 'Link Road', 'Haridas Nagar',\n",
       "       'Worli', 'Sector 30 Kharghar', 'Sector 18', 'Sector16 Airoli',\n",
       "       'Sector 15', 'Sector 35G', 'Sector 35I Kharghar',\n",
       "       'Sector35D Kharghar', 'Sector 36 Kharghar', 'Dombivali East',\n",
       "       'Roadpali', 'Mumbai Highway', 'Andheri', 'Shastri Nagar',\n",
       "       'Wadala East Wadala', 'Kalwa', 'PARSIK NAGAR', 'Belapur',\n",
       "       'Seawoods', 'Majiwada', '4 Bunglows', 'Airoli', 'Kolshet Road',\n",
       "       'Kharegaon', 'Panch Pakhadi', 'Andheri West', 'Dombivli (West)',\n",
       "       'Godrej Hill', 'Haware City', 'Vasai West',\n",
       "       'Mumbai Nashik Expressway', 'Mira Road', 'Kasheli', 'KASHELI',\n",
       "       'Shakti Nagar', 'Bhayandar East', 'Dahisar East', 'Ghatkopar West',\n",
       "       'Koproli', 'Mumbai Central', 'Greater Khanda', 'Manpada',\n",
       "       'Vikhroli', 'Ghatkopar East', 'Thakur complex', 'Khar West',\n",
       "       'Sector 11 Kharghar', 'Ghansoli', 'Jeejamata Nagar',\n",
       "       'Kannamwar Nagar II', 'Jawahar Nagar', 'Titwala', 'Govandi',\n",
       "       'Vasant Vihar', 'Thakur Village', 'Samata nagar',\n",
       "       'Thane Belapur Road Kalwa', 'Borivali', 'Central Avenue',\n",
       "       'Grant Road West', 'Sriprastha', 'Morya Nagar', 'IT Colony',\n",
       "       'Majiwada thane', 'Owale', 'roadpali navimumbai', 'kavesar',\n",
       "       'Kalamboli', 'Dadar West', 'CBD Belapur East', 'Antop Hill',\n",
       "       'Bhakti Park', 'Vashi', 'Mulund East', 'Balkum',\n",
       "       'Hiranandani Estates', 'Vartak Nagar', 'Charkop', 'Palava',\n",
       "       'Sainath Nagar', 'Kapur Bawdi', 'Neral', 'Shil Phata',\n",
       "       'Ville Parle East', 'matunga east', 'Santacruz East',\n",
       "       'vile parle west', 'Powai', 'Anjurdive', 'Sion', 'Uran', 'Boisar',\n",
       "       'Kanjurmarg East', 'Kurla West', 'Sewri', 'Matunga',\n",
       "       'Nalasopara East', 'Ville Parle West', 'Bandra Kurla Complex',\n",
       "       'Vikhroli West', 'Wadala East', 'Vikroli East', 'Mahim',\n",
       "       'Khalapur', 'Karjat', 'Beturkar Pada', 'Nilje Gaon', 'Khopoli',\n",
       "       'Kewale', 'Sen Nagar'], dtype=object)"
      ]
     },
     "execution_count": 21,
     "metadata": {},
     "output_type": "execute_result"
    }
   ],
   "source": [
    "data2.Location.unique()"
   ]
  },
  {
   "cell_type": "code",
   "execution_count": 22,
   "id": "3f6a91f8",
   "metadata": {},
   "outputs": [],
   "source": [
    "data2.Location = data2.Location.str.upper()"
   ]
  },
  {
   "cell_type": "code",
   "execution_count": 23,
   "id": "00de7dbe",
   "metadata": {},
   "outputs": [
    {
     "data": {
      "text/plain": [
       "array(['KHARGHAR', 'OTHER', 'SECTOR 18 KHARGHAR', 'SECTOR 20 KHARGHAR',\n",
       "       'SECTOR 15 KHARGHAR', 'DOMBIVALI', 'PRABHADEVI', 'JOGESHWARI WEST',\n",
       "       'KALYAN EAST', 'MALAD EAST', 'VIRAR EAST', 'VIRAR', 'MALAD WEST',\n",
       "       'BORIVALI EAST', 'MIRA ROAD EAST', 'GOREGAON WEST',\n",
       "       'KANDIVALI WEST', 'BORIVALI WEST', 'KANDIVALI EAST',\n",
       "       'ANDHERI EAST', 'GOREGAON EAST', 'WADALA', 'ULWE', 'DAHISAR',\n",
       "       'KANDIVALI', 'GOREGAON', 'BHANDUP WEST',\n",
       "       'THAKUR VILLAGE KANDIVALI EAST', 'SANTACRUZ WEST', 'KANJURMARG',\n",
       "       'MAROL', 'PAREL', 'LOWER PAREL', 'JOGESHWARI EAST', 'CHEMBUR EAST',\n",
       "       'MULUND', 'NALASOPARA WEST', 'RAHEJA VIHAR', 'POWAI LAKE',\n",
       "       'MHADA COLONY 20', 'TOLARAM COLONY', 'TALOJA', 'VANGANI',\n",
       "       'SECTOR 5 ULWE', 'SECTOR 17 ULWE', 'SECTOR9 KAMOTHE',\n",
       "       'SECTOR 19 KHARGHAR', 'NAVI BASTI', 'SECTOR12 KAMOTHE',\n",
       "       'SECTOR 21 KAMOTHE', 'TALOJA PANCHANAND', 'VIRAR WEST', 'CHEMBUR',\n",
       "       'SECTOR 20 KAMOTHE', 'SECTOR 22 KAMOTHE', 'SECTOR 18 KAMOTHE',\n",
       "       'SECTOR-18 ULWE', 'SECTOR-12 KAMOTHE', 'KURLA', 'DEONAR', 'THANE',\n",
       "       'JANKALYAN NAGAR', 'BADLAPUR', 'AMBARNATH', 'AMBERNATH WEST',\n",
       "       'KAMOTHE', 'KAMOTHE SECTOR 16', 'ALMEIDA PARK', 'KHAR',\n",
       "       'BANDRA WEST', 'PALGHAR', 'SECTOR 21 KHARGHAR',\n",
       "       'SECTOR 12 KHARGHAR', 'VASAI EAST', 'NAHUR', 'BADLAPUR WEST',\n",
       "       'THANE WEST', 'PANVEL', 'KALYAN', 'BADLAPUR EAST', 'JUHU',\n",
       "       'NAIGAON EAST', 'BANDRA EAST', 'DRONAGIRI', 'NERUL', 'KARANJADE',\n",
       "       'SANPADA', 'SECTOR-8 ULWE', 'SECTOR-3 ULWE', 'SECTOR 23 ULWE',\n",
       "       'BHIWANDI', 'VASAI', 'NALA SOPARA', 'GHATKOPAR', 'BREACH CANDY',\n",
       "       'WORLI SOUTH MUMBAI', 'KOPARKHAIRANE STATION ROAD',\n",
       "       'KOPAR KHAIRANE SECTOR 19A', 'KOPER KHAIRANE', 'MAGATHANE',\n",
       "       'AMBERNATH EAST', 'DATTAPADA', 'RAJENDRA NAGAR',\n",
       "       'SAMATA NAGAR THAKUR VILLAGE', 'MIRA ROAD AND BEYOND',\n",
       "       'PANT NAGAR', 'MUMBAI', 'FOUR BUNGALOWS', 'KOLSHET',\n",
       "       'HIRANANDANI MEADOWS', 'PETALI', 'MUMBAI AGRA NATIONAL HIGHWAY',\n",
       "       'VASANT VIHAR THANE WEST', 'KALYAN WEST', 'SHIRGAON', 'POKHRAN 2',\n",
       "       'SECTOR 10', 'TARDEO', 'NAPEANSEA ROAD', 'MAHALAXMI',\n",
       "       'DAHISAR WEST', 'MULUND WEST', 'LINK ROAD', 'HARIDAS NAGAR',\n",
       "       'WORLI', 'SECTOR 30 KHARGHAR', 'SECTOR 18', 'SECTOR16 AIROLI',\n",
       "       'SECTOR 15', 'SECTOR 35G', 'SECTOR 35I KHARGHAR',\n",
       "       'SECTOR35D KHARGHAR', 'SECTOR 36 KHARGHAR', 'DOMBIVALI EAST',\n",
       "       'ROADPALI', 'MUMBAI HIGHWAY', 'ANDHERI', 'SHASTRI NAGAR',\n",
       "       'WADALA EAST WADALA', 'KALWA', 'PARSIK NAGAR', 'BELAPUR',\n",
       "       'SEAWOODS', 'MAJIWADA', '4 BUNGLOWS', 'AIROLI', 'KOLSHET ROAD',\n",
       "       'KHAREGAON', 'PANCH PAKHADI', 'ANDHERI WEST', 'DOMBIVLI (WEST)',\n",
       "       'GODREJ HILL', 'HAWARE CITY', 'VASAI WEST',\n",
       "       'MUMBAI NASHIK EXPRESSWAY', 'MIRA ROAD', 'KASHELI', 'SHAKTI NAGAR',\n",
       "       'BHAYANDAR EAST', 'DAHISAR EAST', 'GHATKOPAR WEST', 'KOPROLI',\n",
       "       'MUMBAI CENTRAL', 'GREATER KHANDA', 'MANPADA', 'VIKHROLI',\n",
       "       'GHATKOPAR EAST', 'THAKUR COMPLEX', 'KHAR WEST',\n",
       "       'SECTOR 11 KHARGHAR', 'GHANSOLI', 'JEEJAMATA NAGAR',\n",
       "       'KANNAMWAR NAGAR II', 'JAWAHAR NAGAR', 'TITWALA', 'GOVANDI',\n",
       "       'VASANT VIHAR', 'THAKUR VILLAGE', 'SAMATA NAGAR',\n",
       "       'THANE BELAPUR ROAD KALWA', 'BORIVALI', 'CENTRAL AVENUE',\n",
       "       'GRANT ROAD WEST', 'SRIPRASTHA', 'MORYA NAGAR', 'IT COLONY',\n",
       "       'MAJIWADA THANE', 'OWALE', 'ROADPALI NAVIMUMBAI', 'KAVESAR',\n",
       "       'KALAMBOLI', 'DADAR WEST', 'CBD BELAPUR EAST', 'ANTOP HILL',\n",
       "       'BHAKTI PARK', 'VASHI', 'MULUND EAST', 'BALKUM',\n",
       "       'HIRANANDANI ESTATES', 'VARTAK NAGAR', 'CHARKOP', 'PALAVA',\n",
       "       'SAINATH NAGAR', 'KAPUR BAWDI', 'NERAL', 'SHIL PHATA',\n",
       "       'VILLE PARLE EAST', 'MATUNGA EAST', 'SANTACRUZ EAST',\n",
       "       'VILE PARLE WEST', 'POWAI', 'ANJURDIVE', 'SION', 'URAN', 'BOISAR',\n",
       "       'KANJURMARG EAST', 'KURLA WEST', 'SEWRI', 'MATUNGA',\n",
       "       'NALASOPARA EAST', 'VILLE PARLE WEST', 'BANDRA KURLA COMPLEX',\n",
       "       'VIKHROLI WEST', 'WADALA EAST', 'VIKROLI EAST', 'MAHIM',\n",
       "       'KHALAPUR', 'KARJAT', 'BETURKAR PADA', 'NILJE GAON', 'KHOPOLI',\n",
       "       'KEWALE', 'SEN NAGAR'], dtype=object)"
      ]
     },
     "execution_count": 23,
     "metadata": {},
     "output_type": "execute_result"
    }
   ],
   "source": [
    "data2.Location.unique()"
   ]
  },
  {
   "cell_type": "code",
   "execution_count": 24,
   "id": "854ee3b1",
   "metadata": {},
   "outputs": [
    {
     "data": {
      "text/plain": [
       "180"
      ]
     },
     "execution_count": 24,
     "metadata": {},
     "output_type": "execute_result"
    }
   ],
   "source": [
    "data.Location.nunique() - data2.Location.nunique()"
   ]
  },
  {
   "cell_type": "code",
   "execution_count": 25,
   "id": "b96f7dd3",
   "metadata": {},
   "outputs": [
    {
     "data": {
      "text/plain": [
       "(6023, 18)"
      ]
     },
     "execution_count": 25,
     "metadata": {},
     "output_type": "execute_result"
    }
   ],
   "source": [
    "data2.shape"
   ]
  },
  {
   "cell_type": "code",
   "execution_count": 26,
   "id": "c7013b5c",
   "metadata": {},
   "outputs": [
    {
     "data": {
      "text/html": [
       "<div>\n",
       "<style scoped>\n",
       "    .dataframe tbody tr th:only-of-type {\n",
       "        vertical-align: middle;\n",
       "    }\n",
       "\n",
       "    .dataframe tbody tr th {\n",
       "        vertical-align: top;\n",
       "    }\n",
       "\n",
       "    .dataframe thead th {\n",
       "        text-align: right;\n",
       "    }\n",
       "</style>\n",
       "<table border=\"1\" class=\"dataframe\">\n",
       "  <thead>\n",
       "    <tr style=\"text-align: right;\">\n",
       "      <th></th>\n",
       "      <th>Price</th>\n",
       "      <th>Area</th>\n",
       "      <th>Location</th>\n",
       "      <th>No. of Bedrooms</th>\n",
       "      <th>New/Resale</th>\n",
       "      <th>Gymnasium</th>\n",
       "      <th>Lift Available</th>\n",
       "      <th>Car Parking</th>\n",
       "      <th>Maintenance Staff</th>\n",
       "      <th>24x7 Security</th>\n",
       "      <th>Children's Play Area</th>\n",
       "      <th>Clubhouse</th>\n",
       "      <th>Intercom</th>\n",
       "      <th>Landscaped Gardens</th>\n",
       "      <th>Indoor Games</th>\n",
       "      <th>Gas Connection</th>\n",
       "      <th>Jogging Track</th>\n",
       "      <th>Swimming Pool</th>\n",
       "    </tr>\n",
       "  </thead>\n",
       "  <tbody>\n",
       "    <tr>\n",
       "      <th>0</th>\n",
       "      <td>4850000</td>\n",
       "      <td>720</td>\n",
       "      <td>KHARGHAR</td>\n",
       "      <td>1</td>\n",
       "      <td>0</td>\n",
       "      <td>0</td>\n",
       "      <td>1</td>\n",
       "      <td>1</td>\n",
       "      <td>1</td>\n",
       "      <td>1</td>\n",
       "      <td>0</td>\n",
       "      <td>0</td>\n",
       "      <td>0</td>\n",
       "      <td>0</td>\n",
       "      <td>0</td>\n",
       "      <td>0</td>\n",
       "      <td>0</td>\n",
       "      <td>0</td>\n",
       "    </tr>\n",
       "    <tr>\n",
       "      <th>1</th>\n",
       "      <td>4500000</td>\n",
       "      <td>600</td>\n",
       "      <td>KHARGHAR</td>\n",
       "      <td>1</td>\n",
       "      <td>0</td>\n",
       "      <td>1</td>\n",
       "      <td>1</td>\n",
       "      <td>1</td>\n",
       "      <td>1</td>\n",
       "      <td>1</td>\n",
       "      <td>0</td>\n",
       "      <td>1</td>\n",
       "      <td>0</td>\n",
       "      <td>0</td>\n",
       "      <td>0</td>\n",
       "      <td>0</td>\n",
       "      <td>1</td>\n",
       "      <td>1</td>\n",
       "    </tr>\n",
       "    <tr>\n",
       "      <th>2</th>\n",
       "      <td>6700000</td>\n",
       "      <td>650</td>\n",
       "      <td>KHARGHAR</td>\n",
       "      <td>1</td>\n",
       "      <td>0</td>\n",
       "      <td>1</td>\n",
       "      <td>1</td>\n",
       "      <td>1</td>\n",
       "      <td>1</td>\n",
       "      <td>1</td>\n",
       "      <td>1</td>\n",
       "      <td>1</td>\n",
       "      <td>1</td>\n",
       "      <td>0</td>\n",
       "      <td>0</td>\n",
       "      <td>0</td>\n",
       "      <td>1</td>\n",
       "      <td>1</td>\n",
       "    </tr>\n",
       "    <tr>\n",
       "      <th>3</th>\n",
       "      <td>4500000</td>\n",
       "      <td>650</td>\n",
       "      <td>KHARGHAR</td>\n",
       "      <td>1</td>\n",
       "      <td>0</td>\n",
       "      <td>0</td>\n",
       "      <td>1</td>\n",
       "      <td>1</td>\n",
       "      <td>1</td>\n",
       "      <td>1</td>\n",
       "      <td>0</td>\n",
       "      <td>0</td>\n",
       "      <td>1</td>\n",
       "      <td>1</td>\n",
       "      <td>0</td>\n",
       "      <td>0</td>\n",
       "      <td>0</td>\n",
       "      <td>0</td>\n",
       "    </tr>\n",
       "    <tr>\n",
       "      <th>4</th>\n",
       "      <td>5000000</td>\n",
       "      <td>665</td>\n",
       "      <td>KHARGHAR</td>\n",
       "      <td>1</td>\n",
       "      <td>0</td>\n",
       "      <td>0</td>\n",
       "      <td>1</td>\n",
       "      <td>1</td>\n",
       "      <td>1</td>\n",
       "      <td>1</td>\n",
       "      <td>0</td>\n",
       "      <td>0</td>\n",
       "      <td>1</td>\n",
       "      <td>1</td>\n",
       "      <td>0</td>\n",
       "      <td>0</td>\n",
       "      <td>0</td>\n",
       "      <td>0</td>\n",
       "    </tr>\n",
       "  </tbody>\n",
       "</table>\n",
       "</div>"
      ],
      "text/plain": [
       "     Price  Area  Location  No. of Bedrooms  New/Resale  Gymnasium  \\\n",
       "0  4850000   720  KHARGHAR                1           0          0   \n",
       "1  4500000   600  KHARGHAR                1           0          1   \n",
       "2  6700000   650  KHARGHAR                1           0          1   \n",
       "3  4500000   650  KHARGHAR                1           0          0   \n",
       "4  5000000   665  KHARGHAR                1           0          0   \n",
       "\n",
       "   Lift Available  Car Parking  Maintenance Staff  24x7 Security  \\\n",
       "0               1            1                  1              1   \n",
       "1               1            1                  1              1   \n",
       "2               1            1                  1              1   \n",
       "3               1            1                  1              1   \n",
       "4               1            1                  1              1   \n",
       "\n",
       "   Children's Play Area  Clubhouse  Intercom  Landscaped Gardens  \\\n",
       "0                     0          0         0                   0   \n",
       "1                     0          1         0                   0   \n",
       "2                     1          1         1                   0   \n",
       "3                     0          0         1                   1   \n",
       "4                     0          0         1                   1   \n",
       "\n",
       "   Indoor Games  Gas Connection  Jogging Track  Swimming Pool  \n",
       "0             0               0              0              0  \n",
       "1             0               0              1              1  \n",
       "2             0               0              1              1  \n",
       "3             0               0              0              0  \n",
       "4             0               0              0              0  "
      ]
     },
     "execution_count": 26,
     "metadata": {},
     "output_type": "execute_result"
    }
   ],
   "source": [
    "data2.head()"
   ]
  },
  {
   "cell_type": "code",
   "execution_count": 27,
   "id": "1af0c1d1",
   "metadata": {},
   "outputs": [],
   "source": [
    "data3 = data2.drop([\"New/Resale\",\"Gymnasium\",\"Lift Available\",\"Car Parking\",\"Maintenance Staff\",\"24x7 Security\",\"Children's Play Area\",\"Clubhouse\",\"Intercom\",\"Landscaped Gardens\",\"Indoor Games\",\"Gas Connection\",\"Jogging Track\",\"Swimming Pool\"],axis=1)"
   ]
  },
  {
   "cell_type": "code",
   "execution_count": 28,
   "id": "c16d2b3f",
   "metadata": {},
   "outputs": [
    {
     "data": {
      "text/html": [
       "<div>\n",
       "<style scoped>\n",
       "    .dataframe tbody tr th:only-of-type {\n",
       "        vertical-align: middle;\n",
       "    }\n",
       "\n",
       "    .dataframe tbody tr th {\n",
       "        vertical-align: top;\n",
       "    }\n",
       "\n",
       "    .dataframe thead th {\n",
       "        text-align: right;\n",
       "    }\n",
       "</style>\n",
       "<table border=\"1\" class=\"dataframe\">\n",
       "  <thead>\n",
       "    <tr style=\"text-align: right;\">\n",
       "      <th></th>\n",
       "      <th>Price</th>\n",
       "      <th>Area</th>\n",
       "      <th>Location</th>\n",
       "      <th>No. of Bedrooms</th>\n",
       "    </tr>\n",
       "  </thead>\n",
       "  <tbody>\n",
       "    <tr>\n",
       "      <th>0</th>\n",
       "      <td>4850000</td>\n",
       "      <td>720</td>\n",
       "      <td>KHARGHAR</td>\n",
       "      <td>1</td>\n",
       "    </tr>\n",
       "    <tr>\n",
       "      <th>1</th>\n",
       "      <td>4500000</td>\n",
       "      <td>600</td>\n",
       "      <td>KHARGHAR</td>\n",
       "      <td>1</td>\n",
       "    </tr>\n",
       "    <tr>\n",
       "      <th>2</th>\n",
       "      <td>6700000</td>\n",
       "      <td>650</td>\n",
       "      <td>KHARGHAR</td>\n",
       "      <td>1</td>\n",
       "    </tr>\n",
       "    <tr>\n",
       "      <th>3</th>\n",
       "      <td>4500000</td>\n",
       "      <td>650</td>\n",
       "      <td>KHARGHAR</td>\n",
       "      <td>1</td>\n",
       "    </tr>\n",
       "    <tr>\n",
       "      <th>4</th>\n",
       "      <td>5000000</td>\n",
       "      <td>665</td>\n",
       "      <td>KHARGHAR</td>\n",
       "      <td>1</td>\n",
       "    </tr>\n",
       "  </tbody>\n",
       "</table>\n",
       "</div>"
      ],
      "text/plain": [
       "     Price  Area  Location  No. of Bedrooms\n",
       "0  4850000   720  KHARGHAR                1\n",
       "1  4500000   600  KHARGHAR                1\n",
       "2  6700000   650  KHARGHAR                1\n",
       "3  4500000   650  KHARGHAR                1\n",
       "4  5000000   665  KHARGHAR                1"
      ]
     },
     "execution_count": 28,
     "metadata": {},
     "output_type": "execute_result"
    }
   ],
   "source": [
    "data3.head()"
   ]
  },
  {
   "cell_type": "code",
   "execution_count": 29,
   "id": "80f588b5",
   "metadata": {},
   "outputs": [],
   "source": [
    "data3[\"PriceByArea\"] = data[\"Price\"]/data[\"Area\"]"
   ]
  },
  {
   "cell_type": "code",
   "execution_count": 30,
   "id": "431755b3",
   "metadata": {},
   "outputs": [
    {
     "data": {
      "text/html": [
       "<div>\n",
       "<style scoped>\n",
       "    .dataframe tbody tr th:only-of-type {\n",
       "        vertical-align: middle;\n",
       "    }\n",
       "\n",
       "    .dataframe tbody tr th {\n",
       "        vertical-align: top;\n",
       "    }\n",
       "\n",
       "    .dataframe thead th {\n",
       "        text-align: right;\n",
       "    }\n",
       "</style>\n",
       "<table border=\"1\" class=\"dataframe\">\n",
       "  <thead>\n",
       "    <tr style=\"text-align: right;\">\n",
       "      <th></th>\n",
       "      <th>Price</th>\n",
       "      <th>Area</th>\n",
       "      <th>Location</th>\n",
       "      <th>No. of Bedrooms</th>\n",
       "      <th>PriceByArea</th>\n",
       "    </tr>\n",
       "  </thead>\n",
       "  <tbody>\n",
       "    <tr>\n",
       "      <th>0</th>\n",
       "      <td>4850000</td>\n",
       "      <td>720</td>\n",
       "      <td>KHARGHAR</td>\n",
       "      <td>1</td>\n",
       "      <td>6736.111111</td>\n",
       "    </tr>\n",
       "    <tr>\n",
       "      <th>1</th>\n",
       "      <td>4500000</td>\n",
       "      <td>600</td>\n",
       "      <td>KHARGHAR</td>\n",
       "      <td>1</td>\n",
       "      <td>7500.000000</td>\n",
       "    </tr>\n",
       "    <tr>\n",
       "      <th>2</th>\n",
       "      <td>6700000</td>\n",
       "      <td>650</td>\n",
       "      <td>KHARGHAR</td>\n",
       "      <td>1</td>\n",
       "      <td>10307.692308</td>\n",
       "    </tr>\n",
       "    <tr>\n",
       "      <th>3</th>\n",
       "      <td>4500000</td>\n",
       "      <td>650</td>\n",
       "      <td>KHARGHAR</td>\n",
       "      <td>1</td>\n",
       "      <td>6923.076923</td>\n",
       "    </tr>\n",
       "    <tr>\n",
       "      <th>4</th>\n",
       "      <td>5000000</td>\n",
       "      <td>665</td>\n",
       "      <td>KHARGHAR</td>\n",
       "      <td>1</td>\n",
       "      <td>7518.796992</td>\n",
       "    </tr>\n",
       "  </tbody>\n",
       "</table>\n",
       "</div>"
      ],
      "text/plain": [
       "     Price  Area  Location  No. of Bedrooms   PriceByArea\n",
       "0  4850000   720  KHARGHAR                1   6736.111111\n",
       "1  4500000   600  KHARGHAR                1   7500.000000\n",
       "2  6700000   650  KHARGHAR                1  10307.692308\n",
       "3  4500000   650  KHARGHAR                1   6923.076923\n",
       "4  5000000   665  KHARGHAR                1   7518.796992"
      ]
     },
     "execution_count": 30,
     "metadata": {},
     "output_type": "execute_result"
    }
   ],
   "source": [
    "data3.head()"
   ]
  },
  {
   "cell_type": "code",
   "execution_count": 31,
   "id": "2831d080",
   "metadata": {},
   "outputs": [
    {
     "data": {
      "image/png": "[encoded data removed]",
      "text/plain": [
       "<Figure size 432x288 with 1 Axes>"
      ]
     },
     "metadata": {
      "needs_background": "light"
     },
     "output_type": "display_data"
    }
   ],
   "source": [
    "sns.boxplot(data3[\"PriceByArea\"]);"
   ]
  },
  {
   "cell_type": "code",
   "execution_count": 32,
   "id": "f47c4da2",
   "metadata": {},
   "outputs": [
    {
     "data": {
      "image/png": "[encoded data removed]",
      "text/plain": [
       "<Figure size 432x288 with 1 Axes>"
      ]
     },
     "metadata": {
      "needs_background": "light"
     },
     "output_type": "display_data"
    }
   ],
   "source": [
    "sns.histplot(data3[\"PriceByArea\"]);"
   ]
  },
  {
   "cell_type": "code",
   "execution_count": 33,
   "id": "08ef75de",
   "metadata": {},
   "outputs": [],
   "source": [
    "data4 = data3[data3[\"PriceByArea\"]<28950]"
   ]
  },
  {
   "cell_type": "code",
   "execution_count": 34,
   "id": "1f8f5f56",
   "metadata": {},
   "outputs": [
    {
     "data": {
      "image/png": "[encoded data removed]",
      "text/plain": [
       "<Figure size 432x288 with 1 Axes>"
      ]
     },
     "metadata": {
      "needs_background": "light"
     },
     "output_type": "display_data"
    }
   ],
   "source": [
    "sns.boxplot(data4[\"PriceByArea\"]);"
   ]
  },
  {
   "cell_type": "code",
   "execution_count": 35,
   "id": "a48069e4",
   "metadata": {},
   "outputs": [
    {
     "data": {
      "image/png": "[encoded data removed]",
      "text/plain": [
       "<Figure size 432x288 with 1 Axes>"
      ]
     },
     "metadata": {
      "needs_background": "light"
     },
     "output_type": "display_data"
    }
   ],
   "source": [
    "sns.histplot(data4[\"PriceByArea\"]);"
   ]
  },
  {
   "cell_type": "code",
   "execution_count": 36,
   "id": "62601859",
   "metadata": {},
   "outputs": [
    {
     "data": {
      "text/plain": [
       "329"
      ]
     },
     "execution_count": 36,
     "metadata": {},
     "output_type": "execute_result"
    }
   ],
   "source": [
    "data3.shape[0] - data4.shape[0]"
   ]
  },
  {
   "cell_type": "code",
   "execution_count": 37,
   "id": "53178553",
   "metadata": {},
   "outputs": [
    {
     "data": {
      "text/plain": [
       "(5694, 5)"
      ]
     },
     "execution_count": 37,
     "metadata": {},
     "output_type": "execute_result"
    }
   ],
   "source": [
    "data4.shape"
   ]
  },
  {
   "cell_type": "code",
   "execution_count": 38,
   "id": "bedce608",
   "metadata": {},
   "outputs": [
    {
     "data": {
      "text/html": [
       "<div>\n",
       "<style scoped>\n",
       "    .dataframe tbody tr th:only-of-type {\n",
       "        vertical-align: middle;\n",
       "    }\n",
       "\n",
       "    .dataframe tbody tr th {\n",
       "        vertical-align: top;\n",
       "    }\n",
       "\n",
       "    .dataframe thead th {\n",
       "        text-align: right;\n",
       "    }\n",
       "</style>\n",
       "<table border=\"1\" class=\"dataframe\">\n",
       "  <thead>\n",
       "    <tr style=\"text-align: right;\">\n",
       "      <th></th>\n",
       "      <th>Price</th>\n",
       "      <th>Area</th>\n",
       "      <th>Location</th>\n",
       "      <th>No. of Bedrooms</th>\n",
       "      <th>PriceByArea</th>\n",
       "    </tr>\n",
       "  </thead>\n",
       "  <tbody>\n",
       "    <tr>\n",
       "      <th>0</th>\n",
       "      <td>4850000</td>\n",
       "      <td>720</td>\n",
       "      <td>KHARGHAR</td>\n",
       "      <td>1</td>\n",
       "      <td>6736.111111</td>\n",
       "    </tr>\n",
       "    <tr>\n",
       "      <th>1</th>\n",
       "      <td>4500000</td>\n",
       "      <td>600</td>\n",
       "      <td>KHARGHAR</td>\n",
       "      <td>1</td>\n",
       "      <td>7500.000000</td>\n",
       "    </tr>\n",
       "    <tr>\n",
       "      <th>2</th>\n",
       "      <td>6700000</td>\n",
       "      <td>650</td>\n",
       "      <td>KHARGHAR</td>\n",
       "      <td>1</td>\n",
       "      <td>10307.692308</td>\n",
       "    </tr>\n",
       "    <tr>\n",
       "      <th>3</th>\n",
       "      <td>4500000</td>\n",
       "      <td>650</td>\n",
       "      <td>KHARGHAR</td>\n",
       "      <td>1</td>\n",
       "      <td>6923.076923</td>\n",
       "    </tr>\n",
       "    <tr>\n",
       "      <th>4</th>\n",
       "      <td>5000000</td>\n",
       "      <td>665</td>\n",
       "      <td>KHARGHAR</td>\n",
       "      <td>1</td>\n",
       "      <td>7518.796992</td>\n",
       "    </tr>\n",
       "  </tbody>\n",
       "</table>\n",
       "</div>"
      ],
      "text/plain": [
       "     Price  Area  Location  No. of Bedrooms   PriceByArea\n",
       "0  4850000   720  KHARGHAR                1   6736.111111\n",
       "1  4500000   600  KHARGHAR                1   7500.000000\n",
       "2  6700000   650  KHARGHAR                1  10307.692308\n",
       "3  4500000   650  KHARGHAR                1   6923.076923\n",
       "4  5000000   665  KHARGHAR                1   7518.796992"
      ]
     },
     "execution_count": 38,
     "metadata": {},
     "output_type": "execute_result"
    }
   ],
   "source": [
    "data4.head()"
   ]
  },
  {
   "cell_type": "code",
   "execution_count": 39,
   "id": "b403a0c4",
   "metadata": {},
   "outputs": [
    {
     "data": {
      "text/plain": [
       "count     5694.000000\n",
       "mean     11507.858893\n",
       "std       5959.522458\n",
       "min       1597.444089\n",
       "25%       6926.242783\n",
       "50%       9671.886469\n",
       "75%      15722.538052\n",
       "max      28914.590747\n",
       "Name: PriceByArea, dtype: float64"
      ]
     },
     "execution_count": 39,
     "metadata": {},
     "output_type": "execute_result"
    }
   ],
   "source": [
    "data4.PriceByArea.describe()"
   ]
  },
  {
   "cell_type": "code",
   "execution_count": 40,
   "id": "7cdf823c",
   "metadata": {},
   "outputs": [],
   "source": [
    "data4[\"AreaByBedrooms\"] = data4[\"Area\"]/data4[\"No. of Bedrooms\"]"
   ]
  },
  {
   "cell_type": "code",
   "execution_count": 41,
   "id": "bfa50fb4",
   "metadata": {},
   "outputs": [
    {
     "data": {
      "text/html": [
       "<div>\n",
       "<style scoped>\n",
       "    .dataframe tbody tr th:only-of-type {\n",
       "        vertical-align: middle;\n",
       "    }\n",
       "\n",
       "    .dataframe tbody tr th {\n",
       "        vertical-align: top;\n",
       "    }\n",
       "\n",
       "    .dataframe thead th {\n",
       "        text-align: right;\n",
       "    }\n",
       "</style>\n",
       "<table border=\"1\" class=\"dataframe\">\n",
       "  <thead>\n",
       "    <tr style=\"text-align: right;\">\n",
       "      <th></th>\n",
       "      <th>Price</th>\n",
       "      <th>Area</th>\n",
       "      <th>Location</th>\n",
       "      <th>No. of Bedrooms</th>\n",
       "      <th>PriceByArea</th>\n",
       "      <th>AreaByBedrooms</th>\n",
       "    </tr>\n",
       "  </thead>\n",
       "  <tbody>\n",
       "    <tr>\n",
       "      <th>0</th>\n",
       "      <td>4850000</td>\n",
       "      <td>720</td>\n",
       "      <td>KHARGHAR</td>\n",
       "      <td>1</td>\n",
       "      <td>6736.111111</td>\n",
       "      <td>720.0</td>\n",
       "    </tr>\n",
       "    <tr>\n",
       "      <th>1</th>\n",
       "      <td>4500000</td>\n",
       "      <td>600</td>\n",
       "      <td>KHARGHAR</td>\n",
       "      <td>1</td>\n",
       "      <td>7500.000000</td>\n",
       "      <td>600.0</td>\n",
       "    </tr>\n",
       "    <tr>\n",
       "      <th>2</th>\n",
       "      <td>6700000</td>\n",
       "      <td>650</td>\n",
       "      <td>KHARGHAR</td>\n",
       "      <td>1</td>\n",
       "      <td>10307.692308</td>\n",
       "      <td>650.0</td>\n",
       "    </tr>\n",
       "    <tr>\n",
       "      <th>3</th>\n",
       "      <td>4500000</td>\n",
       "      <td>650</td>\n",
       "      <td>KHARGHAR</td>\n",
       "      <td>1</td>\n",
       "      <td>6923.076923</td>\n",
       "      <td>650.0</td>\n",
       "    </tr>\n",
       "    <tr>\n",
       "      <th>4</th>\n",
       "      <td>5000000</td>\n",
       "      <td>665</td>\n",
       "      <td>KHARGHAR</td>\n",
       "      <td>1</td>\n",
       "      <td>7518.796992</td>\n",
       "      <td>665.0</td>\n",
       "    </tr>\n",
       "  </tbody>\n",
       "</table>\n",
       "</div>"
      ],
      "text/plain": [
       "     Price  Area  Location  No. of Bedrooms   PriceByArea  AreaByBedrooms\n",
       "0  4850000   720  KHARGHAR                1   6736.111111           720.0\n",
       "1  4500000   600  KHARGHAR                1   7500.000000           600.0\n",
       "2  6700000   650  KHARGHAR                1  10307.692308           650.0\n",
       "3  4500000   650  KHARGHAR                1   6923.076923           650.0\n",
       "4  5000000   665  KHARGHAR                1   7518.796992           665.0"
      ]
     },
     "execution_count": 41,
     "metadata": {},
     "output_type": "execute_result"
    }
   ],
   "source": [
    "data4.head()"
   ]
  },
  {
   "cell_type": "code",
   "execution_count": 42,
   "id": "93961a44",
   "metadata": {},
   "outputs": [
    {
     "data": {
      "image/png": "[encoded data removed]",
      "text/plain": [
       "<Figure size 432x288 with 1 Axes>"
      ]
     },
     "metadata": {
      "needs_background": "light"
     },
     "output_type": "display_data"
    }
   ],
   "source": [
    "sns.histplot(data4[\"AreaByBedrooms\"]);"
   ]
  },
  {
   "cell_type": "code",
   "execution_count": 43,
   "id": "18e61aa5",
   "metadata": {},
   "outputs": [
    {
     "data": {
      "image/png": "[encoded data removed]",
      "text/plain": [
       "<Figure size 432x288 with 1 Axes>"
      ]
     },
     "metadata": {
      "needs_background": "light"
     },
     "output_type": "display_data"
    }
   ],
   "source": [
    "sns.boxplot(data4[\"AreaByBedrooms\"]);"
   ]
  },
  {
   "cell_type": "code",
   "execution_count": 44,
   "id": "83623134",
   "metadata": {
    "scrolled": true
   },
   "outputs": [
    {
     "data": {
      "text/html": [
       "<div>\n",
       "<style scoped>\n",
       "    .dataframe tbody tr th:only-of-type {\n",
       "        vertical-align: middle;\n",
       "    }\n",
       "\n",
       "    .dataframe tbody tr th {\n",
       "        vertical-align: top;\n",
       "    }\n",
       "\n",
       "    .dataframe thead th {\n",
       "        text-align: right;\n",
       "    }\n",
       "</style>\n",
       "<table border=\"1\" class=\"dataframe\">\n",
       "  <thead>\n",
       "    <tr style=\"text-align: right;\">\n",
       "      <th></th>\n",
       "      <th>Price</th>\n",
       "      <th>Area</th>\n",
       "      <th>Location</th>\n",
       "      <th>No. of Bedrooms</th>\n",
       "      <th>PriceByArea</th>\n",
       "      <th>AreaByBedrooms</th>\n",
       "    </tr>\n",
       "  </thead>\n",
       "  <tbody>\n",
       "    <tr>\n",
       "      <th>356</th>\n",
       "      <td>9600000</td>\n",
       "      <td>900</td>\n",
       "      <td>JANKALYAN NAGAR</td>\n",
       "      <td>1</td>\n",
       "      <td>10666.666667</td>\n",
       "      <td>900.0</td>\n",
       "    </tr>\n",
       "    <tr>\n",
       "      <th>934</th>\n",
       "      <td>13500000</td>\n",
       "      <td>950</td>\n",
       "      <td>WADALA EAST WADALA</td>\n",
       "      <td>1</td>\n",
       "      <td>14210.526316</td>\n",
       "      <td>950.0</td>\n",
       "    </tr>\n",
       "    <tr>\n",
       "      <th>1194</th>\n",
       "      <td>17500000</td>\n",
       "      <td>1050</td>\n",
       "      <td>ANDHERI EAST</td>\n",
       "      <td>1</td>\n",
       "      <td>16666.666667</td>\n",
       "      <td>1050.0</td>\n",
       "    </tr>\n",
       "    <tr>\n",
       "      <th>1195</th>\n",
       "      <td>16500000</td>\n",
       "      <td>1020</td>\n",
       "      <td>ANDHERI EAST</td>\n",
       "      <td>1</td>\n",
       "      <td>16176.470588</td>\n",
       "      <td>1020.0</td>\n",
       "    </tr>\n",
       "    <tr>\n",
       "      <th>1382</th>\n",
       "      <td>3700000</td>\n",
       "      <td>925</td>\n",
       "      <td>NAIGAON EAST</td>\n",
       "      <td>1</td>\n",
       "      <td>4000.000000</td>\n",
       "      <td>925.0</td>\n",
       "    </tr>\n",
       "    <tr>\n",
       "      <th>2147</th>\n",
       "      <td>19000000</td>\n",
       "      <td>1411</td>\n",
       "      <td>MAROL</td>\n",
       "      <td>1</td>\n",
       "      <td>13465.627215</td>\n",
       "      <td>1411.0</td>\n",
       "    </tr>\n",
       "    <tr>\n",
       "      <th>2179</th>\n",
       "      <td>14900000</td>\n",
       "      <td>1200</td>\n",
       "      <td>MALAD EAST</td>\n",
       "      <td>1</td>\n",
       "      <td>12416.666667</td>\n",
       "      <td>1200.0</td>\n",
       "    </tr>\n",
       "    <tr>\n",
       "      <th>2680</th>\n",
       "      <td>12800000</td>\n",
       "      <td>950</td>\n",
       "      <td>CHEMBUR</td>\n",
       "      <td>1</td>\n",
       "      <td>13473.684211</td>\n",
       "      <td>950.0</td>\n",
       "    </tr>\n",
       "    <tr>\n",
       "      <th>3085</th>\n",
       "      <td>9500000</td>\n",
       "      <td>981</td>\n",
       "      <td>MIRA ROAD EAST</td>\n",
       "      <td>1</td>\n",
       "      <td>9683.995923</td>\n",
       "      <td>981.0</td>\n",
       "    </tr>\n",
       "    <tr>\n",
       "      <th>3326</th>\n",
       "      <td>23500000</td>\n",
       "      <td>1310</td>\n",
       "      <td>NERUL</td>\n",
       "      <td>1</td>\n",
       "      <td>17938.931298</td>\n",
       "      <td>1310.0</td>\n",
       "    </tr>\n",
       "    <tr>\n",
       "      <th>3328</th>\n",
       "      <td>21500000</td>\n",
       "      <td>1250</td>\n",
       "      <td>SEAWOODS</td>\n",
       "      <td>1</td>\n",
       "      <td>17200.000000</td>\n",
       "      <td>1250.0</td>\n",
       "    </tr>\n",
       "    <tr>\n",
       "      <th>3329</th>\n",
       "      <td>19100000</td>\n",
       "      <td>1205</td>\n",
       "      <td>SEAWOODS</td>\n",
       "      <td>1</td>\n",
       "      <td>15850.622407</td>\n",
       "      <td>1205.0</td>\n",
       "    </tr>\n",
       "    <tr>\n",
       "      <th>3330</th>\n",
       "      <td>21700000</td>\n",
       "      <td>1250</td>\n",
       "      <td>SEAWOODS</td>\n",
       "      <td>1</td>\n",
       "      <td>17360.000000</td>\n",
       "      <td>1250.0</td>\n",
       "    </tr>\n",
       "    <tr>\n",
       "      <th>3331</th>\n",
       "      <td>19200000</td>\n",
       "      <td>1205</td>\n",
       "      <td>SEAWOODS</td>\n",
       "      <td>1</td>\n",
       "      <td>15933.609959</td>\n",
       "      <td>1205.0</td>\n",
       "    </tr>\n",
       "    <tr>\n",
       "      <th>3332</th>\n",
       "      <td>21500000</td>\n",
       "      <td>1300</td>\n",
       "      <td>SEAWOODS</td>\n",
       "      <td>1</td>\n",
       "      <td>16538.461538</td>\n",
       "      <td>1300.0</td>\n",
       "    </tr>\n",
       "    <tr>\n",
       "      <th>3333</th>\n",
       "      <td>19000000</td>\n",
       "      <td>1205</td>\n",
       "      <td>SEAWOODS</td>\n",
       "      <td>1</td>\n",
       "      <td>15767.634855</td>\n",
       "      <td>1205.0</td>\n",
       "    </tr>\n",
       "    <tr>\n",
       "      <th>3335</th>\n",
       "      <td>21000000</td>\n",
       "      <td>1425</td>\n",
       "      <td>SEAWOODS</td>\n",
       "      <td>1</td>\n",
       "      <td>14736.842105</td>\n",
       "      <td>1425.0</td>\n",
       "    </tr>\n",
       "    <tr>\n",
       "      <th>3337</th>\n",
       "      <td>13500000</td>\n",
       "      <td>1092</td>\n",
       "      <td>SEAWOODS</td>\n",
       "      <td>1</td>\n",
       "      <td>12362.637363</td>\n",
       "      <td>1092.0</td>\n",
       "    </tr>\n",
       "    <tr>\n",
       "      <th>3432</th>\n",
       "      <td>7400000</td>\n",
       "      <td>950</td>\n",
       "      <td>KHARGHAR</td>\n",
       "      <td>1</td>\n",
       "      <td>7789.473684</td>\n",
       "      <td>950.0</td>\n",
       "    </tr>\n",
       "    <tr>\n",
       "      <th>3477</th>\n",
       "      <td>2000000</td>\n",
       "      <td>1252</td>\n",
       "      <td>NAIGAON EAST</td>\n",
       "      <td>1</td>\n",
       "      <td>1597.444089</td>\n",
       "      <td>1252.0</td>\n",
       "    </tr>\n",
       "    <tr>\n",
       "      <th>3568</th>\n",
       "      <td>11100000</td>\n",
       "      <td>1205</td>\n",
       "      <td>SEAWOODS</td>\n",
       "      <td>1</td>\n",
       "      <td>9211.618257</td>\n",
       "      <td>1205.0</td>\n",
       "    </tr>\n",
       "    <tr>\n",
       "      <th>3571</th>\n",
       "      <td>43000000</td>\n",
       "      <td>1820</td>\n",
       "      <td>JOGESHWARI EAST</td>\n",
       "      <td>2</td>\n",
       "      <td>23626.373626</td>\n",
       "      <td>910.0</td>\n",
       "    </tr>\n",
       "    <tr>\n",
       "      <th>3574</th>\n",
       "      <td>31000000</td>\n",
       "      <td>1200</td>\n",
       "      <td>GOREGAON EAST</td>\n",
       "      <td>1</td>\n",
       "      <td>25833.333333</td>\n",
       "      <td>1200.0</td>\n",
       "    </tr>\n",
       "    <tr>\n",
       "      <th>3735</th>\n",
       "      <td>42000000</td>\n",
       "      <td>1820</td>\n",
       "      <td>GOREGAON EAST</td>\n",
       "      <td>2</td>\n",
       "      <td>23076.923077</td>\n",
       "      <td>910.0</td>\n",
       "    </tr>\n",
       "    <tr>\n",
       "      <th>3802</th>\n",
       "      <td>6448999</td>\n",
       "      <td>910</td>\n",
       "      <td>THANE WEST</td>\n",
       "      <td>1</td>\n",
       "      <td>7086.812088</td>\n",
       "      <td>910.0</td>\n",
       "    </tr>\n",
       "    <tr>\n",
       "      <th>3851</th>\n",
       "      <td>40000000</td>\n",
       "      <td>1820</td>\n",
       "      <td>GOREGAON EAST</td>\n",
       "      <td>2</td>\n",
       "      <td>21978.021978</td>\n",
       "      <td>910.0</td>\n",
       "    </tr>\n",
       "    <tr>\n",
       "      <th>3928</th>\n",
       "      <td>20000000</td>\n",
       "      <td>980</td>\n",
       "      <td>BORIVALI WEST</td>\n",
       "      <td>1</td>\n",
       "      <td>20408.163265</td>\n",
       "      <td>980.0</td>\n",
       "    </tr>\n",
       "    <tr>\n",
       "      <th>3938</th>\n",
       "      <td>23500000</td>\n",
       "      <td>1250</td>\n",
       "      <td>NERUL</td>\n",
       "      <td>1</td>\n",
       "      <td>18800.000000</td>\n",
       "      <td>1250.0</td>\n",
       "    </tr>\n",
       "    <tr>\n",
       "      <th>3939</th>\n",
       "      <td>22000000</td>\n",
       "      <td>1125</td>\n",
       "      <td>SEAWOODS</td>\n",
       "      <td>1</td>\n",
       "      <td>19555.555556</td>\n",
       "      <td>1125.0</td>\n",
       "    </tr>\n",
       "    <tr>\n",
       "      <th>3940</th>\n",
       "      <td>19200000</td>\n",
       "      <td>1231</td>\n",
       "      <td>SEAWOODS</td>\n",
       "      <td>1</td>\n",
       "      <td>15597.075548</td>\n",
       "      <td>1231.0</td>\n",
       "    </tr>\n",
       "    <tr>\n",
       "      <th>4034</th>\n",
       "      <td>8000000</td>\n",
       "      <td>1098</td>\n",
       "      <td>DOMBIVALI</td>\n",
       "      <td>1</td>\n",
       "      <td>7285.974499</td>\n",
       "      <td>1098.0</td>\n",
       "    </tr>\n",
       "    <tr>\n",
       "      <th>4089</th>\n",
       "      <td>6454000</td>\n",
       "      <td>993</td>\n",
       "      <td>PANVEL</td>\n",
       "      <td>1</td>\n",
       "      <td>6499.496475</td>\n",
       "      <td>993.0</td>\n",
       "    </tr>\n",
       "    <tr>\n",
       "      <th>4245</th>\n",
       "      <td>8500000</td>\n",
       "      <td>1055</td>\n",
       "      <td>PANVEL</td>\n",
       "      <td>1</td>\n",
       "      <td>8056.872038</td>\n",
       "      <td>1055.0</td>\n",
       "    </tr>\n",
       "    <tr>\n",
       "      <th>4278</th>\n",
       "      <td>7500000</td>\n",
       "      <td>1050</td>\n",
       "      <td>AIROLI</td>\n",
       "      <td>1</td>\n",
       "      <td>7142.857143</td>\n",
       "      <td>1050.0</td>\n",
       "    </tr>\n",
       "    <tr>\n",
       "      <th>4367</th>\n",
       "      <td>7000000</td>\n",
       "      <td>920</td>\n",
       "      <td>ULWE</td>\n",
       "      <td>1</td>\n",
       "      <td>7608.695652</td>\n",
       "      <td>920.0</td>\n",
       "    </tr>\n",
       "    <tr>\n",
       "      <th>4647</th>\n",
       "      <td>3400000</td>\n",
       "      <td>985</td>\n",
       "      <td>NALA SOPARA</td>\n",
       "      <td>1</td>\n",
       "      <td>3451.776650</td>\n",
       "      <td>985.0</td>\n",
       "    </tr>\n",
       "    <tr>\n",
       "      <th>4674</th>\n",
       "      <td>3800000</td>\n",
       "      <td>900</td>\n",
       "      <td>NALA SOPARA</td>\n",
       "      <td>1</td>\n",
       "      <td>4222.222222</td>\n",
       "      <td>900.0</td>\n",
       "    </tr>\n",
       "    <tr>\n",
       "      <th>4832</th>\n",
       "      <td>4000000</td>\n",
       "      <td>910</td>\n",
       "      <td>VIRAR WEST</td>\n",
       "      <td>1</td>\n",
       "      <td>4395.604396</td>\n",
       "      <td>910.0</td>\n",
       "    </tr>\n",
       "    <tr>\n",
       "      <th>4833</th>\n",
       "      <td>4100000</td>\n",
       "      <td>910</td>\n",
       "      <td>VIRAR</td>\n",
       "      <td>1</td>\n",
       "      <td>4505.494505</td>\n",
       "      <td>910.0</td>\n",
       "    </tr>\n",
       "    <tr>\n",
       "      <th>4873</th>\n",
       "      <td>13500000</td>\n",
       "      <td>1072</td>\n",
       "      <td>MALAD EAST</td>\n",
       "      <td>1</td>\n",
       "      <td>12593.283582</td>\n",
       "      <td>1072.0</td>\n",
       "    </tr>\n",
       "    <tr>\n",
       "      <th>4877</th>\n",
       "      <td>16500000</td>\n",
       "      <td>1115</td>\n",
       "      <td>MALAD EAST</td>\n",
       "      <td>1</td>\n",
       "      <td>14798.206278</td>\n",
       "      <td>1115.0</td>\n",
       "    </tr>\n",
       "    <tr>\n",
       "      <th>4878</th>\n",
       "      <td>17500000</td>\n",
       "      <td>1122</td>\n",
       "      <td>BORIVALI WEST</td>\n",
       "      <td>1</td>\n",
       "      <td>15597.147950</td>\n",
       "      <td>1122.0</td>\n",
       "    </tr>\n",
       "    <tr>\n",
       "      <th>4880</th>\n",
       "      <td>13000000</td>\n",
       "      <td>960</td>\n",
       "      <td>MALAD EAST</td>\n",
       "      <td>1</td>\n",
       "      <td>13541.666667</td>\n",
       "      <td>960.0</td>\n",
       "    </tr>\n",
       "    <tr>\n",
       "      <th>5081</th>\n",
       "      <td>19000000</td>\n",
       "      <td>1290</td>\n",
       "      <td>POWAI</td>\n",
       "      <td>1</td>\n",
       "      <td>14728.682171</td>\n",
       "      <td>1290.0</td>\n",
       "    </tr>\n",
       "    <tr>\n",
       "      <th>5141</th>\n",
       "      <td>13600000</td>\n",
       "      <td>1050</td>\n",
       "      <td>OTHER</td>\n",
       "      <td>1</td>\n",
       "      <td>12952.380952</td>\n",
       "      <td>1050.0</td>\n",
       "    </tr>\n",
       "    <tr>\n",
       "      <th>5174</th>\n",
       "      <td>18400000</td>\n",
       "      <td>1100</td>\n",
       "      <td>GOREGAON WEST</td>\n",
       "      <td>1</td>\n",
       "      <td>16727.272727</td>\n",
       "      <td>1100.0</td>\n",
       "    </tr>\n",
       "    <tr>\n",
       "      <th>5175</th>\n",
       "      <td>18000000</td>\n",
       "      <td>1100</td>\n",
       "      <td>GOREGAON WEST</td>\n",
       "      <td>1</td>\n",
       "      <td>16363.636364</td>\n",
       "      <td>1100.0</td>\n",
       "    </tr>\n",
       "    <tr>\n",
       "      <th>5176</th>\n",
       "      <td>18200000</td>\n",
       "      <td>1100</td>\n",
       "      <td>GOREGAON WEST</td>\n",
       "      <td>1</td>\n",
       "      <td>16545.454545</td>\n",
       "      <td>1100.0</td>\n",
       "    </tr>\n",
       "    <tr>\n",
       "      <th>5183</th>\n",
       "      <td>17500000</td>\n",
       "      <td>1000</td>\n",
       "      <td>POWAI</td>\n",
       "      <td>1</td>\n",
       "      <td>17500.000000</td>\n",
       "      <td>1000.0</td>\n",
       "    </tr>\n",
       "    <tr>\n",
       "      <th>5191</th>\n",
       "      <td>17000000</td>\n",
       "      <td>1000</td>\n",
       "      <td>POWAI</td>\n",
       "      <td>1</td>\n",
       "      <td>17000.000000</td>\n",
       "      <td>1000.0</td>\n",
       "    </tr>\n",
       "    <tr>\n",
       "      <th>5611</th>\n",
       "      <td>8800000</td>\n",
       "      <td>980</td>\n",
       "      <td>MALAD WEST</td>\n",
       "      <td>1</td>\n",
       "      <td>8979.591837</td>\n",
       "      <td>980.0</td>\n",
       "    </tr>\n",
       "    <tr>\n",
       "      <th>5612</th>\n",
       "      <td>8800000</td>\n",
       "      <td>980</td>\n",
       "      <td>MALAD WEST</td>\n",
       "      <td>1</td>\n",
       "      <td>8979.591837</td>\n",
       "      <td>980.0</td>\n",
       "    </tr>\n",
       "    <tr>\n",
       "      <th>5790</th>\n",
       "      <td>17000000</td>\n",
       "      <td>1020</td>\n",
       "      <td>CHEMBUR</td>\n",
       "      <td>1</td>\n",
       "      <td>16666.666667</td>\n",
       "      <td>1020.0</td>\n",
       "    </tr>\n",
       "    <tr>\n",
       "      <th>6057</th>\n",
       "      <td>3308000</td>\n",
       "      <td>973</td>\n",
       "      <td>BOISAR</td>\n",
       "      <td>1</td>\n",
       "      <td>3399.794450</td>\n",
       "      <td>973.0</td>\n",
       "    </tr>\n",
       "    <tr>\n",
       "      <th>6213</th>\n",
       "      <td>8500000</td>\n",
       "      <td>1300</td>\n",
       "      <td>PANVEL</td>\n",
       "      <td>1</td>\n",
       "      <td>6538.461538</td>\n",
       "      <td>1300.0</td>\n",
       "    </tr>\n",
       "    <tr>\n",
       "      <th>6214</th>\n",
       "      <td>8000000</td>\n",
       "      <td>1200</td>\n",
       "      <td>PANVEL</td>\n",
       "      <td>1</td>\n",
       "      <td>6666.666667</td>\n",
       "      <td>1200.0</td>\n",
       "    </tr>\n",
       "    <tr>\n",
       "      <th>6315</th>\n",
       "      <td>8400000</td>\n",
       "      <td>1010</td>\n",
       "      <td>PANVEL</td>\n",
       "      <td>1</td>\n",
       "      <td>8316.831683</td>\n",
       "      <td>1010.0</td>\n",
       "    </tr>\n",
       "  </tbody>\n",
       "</table>\n",
       "</div>"
      ],
      "text/plain": [
       "         Price  Area            Location  No. of Bedrooms   PriceByArea  \\\n",
       "356    9600000   900     JANKALYAN NAGAR                1  10666.666667   \n",
       "934   13500000   950  WADALA EAST WADALA                1  14210.526316   \n",
       "1194  17500000  1050        ANDHERI EAST                1  16666.666667   \n",
       "1195  16500000  1020        ANDHERI EAST                1  16176.470588   \n",
       "1382   3700000   925        NAIGAON EAST                1   4000.000000   \n",
       "2147  19000000  1411               MAROL                1  13465.627215   \n",
       "2179  14900000  1200          MALAD EAST                1  12416.666667   \n",
       "2680  12800000   950             CHEMBUR                1  13473.684211   \n",
       "3085   9500000   981      MIRA ROAD EAST                1   9683.995923   \n",
       "3326  23500000  1310               NERUL                1  17938.931298   \n",
       "3328  21500000  1250            SEAWOODS                1  17200.000000   \n",
       "3329  19100000  1205            SEAWOODS                1  15850.622407   \n",
       "3330  21700000  1250            SEAWOODS                1  17360.000000   \n",
       "3331  19200000  1205            SEAWOODS                1  15933.609959   \n",
       "3332  21500000  1300            SEAWOODS                1  16538.461538   \n",
       "3333  19000000  1205            SEAWOODS                1  15767.634855   \n",
       "3335  21000000  1425            SEAWOODS                1  14736.842105   \n",
       "3337  13500000  1092            SEAWOODS                1  12362.637363   \n",
       "3432   7400000   950            KHARGHAR                1   7789.473684   \n",
       "3477   2000000  1252        NAIGAON EAST                1   1597.444089   \n",
       "3568  11100000  1205            SEAWOODS                1   9211.618257   \n",
       "3571  43000000  1820     JOGESHWARI EAST                2  23626.373626   \n",
       "3574  31000000  1200       GOREGAON EAST                1  25833.333333   \n",
       "3735  42000000  1820       GOREGAON EAST                2  23076.923077   \n",
       "3802   6448999   910          THANE WEST                1   7086.812088   \n",
       "3851  40000000  1820       GOREGAON EAST                2  21978.021978   \n",
       "3928  20000000   980       BORIVALI WEST                1  20408.163265   \n",
       "3938  23500000  1250               NERUL                1  18800.000000   \n",
       "3939  22000000  1125            SEAWOODS                1  19555.555556   \n",
       "3940  19200000  1231            SEAWOODS                1  15597.075548   \n",
       "4034   8000000  1098           DOMBIVALI                1   7285.974499   \n",
       "4089   6454000   993              PANVEL                1   6499.496475   \n",
       "4245   8500000  1055              PANVEL                1   8056.872038   \n",
       "4278   7500000  1050              AIROLI                1   7142.857143   \n",
       "4367   7000000   920                ULWE                1   7608.695652   \n",
       "4647   3400000   985         NALA SOPARA                1   3451.776650   \n",
       "4674   3800000   900         NALA SOPARA                1   4222.222222   \n",
       "4832   4000000   910          VIRAR WEST                1   4395.604396   \n",
       "4833   4100000   910               VIRAR                1   4505.494505   \n",
       "4873  13500000  1072          MALAD EAST                1  12593.283582   \n",
       "4877  16500000  1115          MALAD EAST                1  14798.206278   \n",
       "4878  17500000  1122       BORIVALI WEST                1  15597.147950   \n",
       "4880  13000000   960          MALAD EAST                1  13541.666667   \n",
       "5081  19000000  1290               POWAI                1  14728.682171   \n",
       "5141  13600000  1050               OTHER                1  12952.380952   \n",
       "5174  18400000  1100       GOREGAON WEST                1  16727.272727   \n",
       "5175  18000000  1100       GOREGAON WEST                1  16363.636364   \n",
       "5176  18200000  1100       GOREGAON WEST                1  16545.454545   \n",
       "5183  17500000  1000               POWAI                1  17500.000000   \n",
       "5191  17000000  1000               POWAI                1  17000.000000   \n",
       "5611   8800000   980          MALAD WEST                1   8979.591837   \n",
       "5612   8800000   980          MALAD WEST                1   8979.591837   \n",
       "5790  17000000  1020             CHEMBUR                1  16666.666667   \n",
       "6057   3308000   973              BOISAR                1   3399.794450   \n",
       "6213   8500000  1300              PANVEL                1   6538.461538   \n",
       "6214   8000000  1200              PANVEL                1   6666.666667   \n",
       "6315   8400000  1010              PANVEL                1   8316.831683   \n",
       "\n",
       "      AreaByBedrooms  \n",
       "356            900.0  \n",
       "934            950.0  \n",
       "1194          1050.0  \n",
       "1195          1020.0  \n",
       "1382           925.0  \n",
       "2147          1411.0  \n",
       "2179          1200.0  \n",
       "2680           950.0  \n",
       "3085           981.0  \n",
       "3326          1310.0  \n",
       "3328          1250.0  \n",
       "3329          1205.0  \n",
       "3330          1250.0  \n",
       "3331          1205.0  \n",
       "3332          1300.0  \n",
       "3333          1205.0  \n",
       "3335          1425.0  \n",
       "3337          1092.0  \n",
       "3432           950.0  \n",
       "3477          1252.0  \n",
       "3568          1205.0  \n",
       "3571           910.0  \n",
       "3574          1200.0  \n",
       "3735           910.0  \n",
       "3802           910.0  \n",
       "3851           910.0  \n",
       "3928           980.0  \n",
       "3938          1250.0  \n",
       "3939          1125.0  \n",
       "3940          1231.0  \n",
       "4034          1098.0  \n",
       "4089           993.0  \n",
       "4245          1055.0  \n",
       "4278          1050.0  \n",
       "4367           920.0  \n",
       "4647           985.0  \n",
       "4674           900.0  \n",
       "4832           910.0  \n",
       "4833           910.0  \n",
       "4873          1072.0  \n",
       "4877          1115.0  \n",
       "4878          1122.0  \n",
       "4880           960.0  \n",
       "5081          1290.0  \n",
       "5141          1050.0  \n",
       "5174          1100.0  \n",
       "5175          1100.0  \n",
       "5176          1100.0  \n",
       "5183          1000.0  \n",
       "5191          1000.0  \n",
       "5611           980.0  \n",
       "5612           980.0  \n",
       "5790          1020.0  \n",
       "6057           973.0  \n",
       "6213          1300.0  \n",
       "6214          1200.0  \n",
       "6315          1010.0  "
      ]
     },
     "execution_count": 44,
     "metadata": {},
     "output_type": "execute_result"
    }
   ],
   "source": [
    "data4[data4[\"AreaByBedrooms\"]>=900]"
   ]
  },
  {
   "cell_type": "code",
   "execution_count": 45,
   "id": "c6a80a75",
   "metadata": {},
   "outputs": [
    {
     "data": {
      "text/plain": [
       "42"
      ]
     },
     "execution_count": 45,
     "metadata": {},
     "output_type": "execute_result"
    }
   ],
   "source": [
    "len(data4[data4[\"AreaByBedrooms\"]<=250])"
   ]
  },
  {
   "cell_type": "code",
   "execution_count": 46,
   "id": "a9309d27",
   "metadata": {},
   "outputs": [],
   "source": [
    "data5 = data4[(data4[\"AreaByBedrooms\"]>=250) & (data4[\"AreaByBedrooms\"]<=830)]"
   ]
  },
  {
   "cell_type": "code",
   "execution_count": 47,
   "id": "f2be963a",
   "metadata": {},
   "outputs": [
    {
     "data": {
      "text/plain": [
       "(5582, 6)"
      ]
     },
     "execution_count": 47,
     "metadata": {},
     "output_type": "execute_result"
    }
   ],
   "source": [
    "data5.shape"
   ]
  },
  {
   "cell_type": "code",
   "execution_count": 48,
   "id": "1ca402fa",
   "metadata": {},
   "outputs": [
    {
     "data": {
      "text/html": [
       "<div>\n",
       "<style scoped>\n",
       "    .dataframe tbody tr th:only-of-type {\n",
       "        vertical-align: middle;\n",
       "    }\n",
       "\n",
       "    .dataframe tbody tr th {\n",
       "        vertical-align: top;\n",
       "    }\n",
       "\n",
       "    .dataframe thead th {\n",
       "        text-align: right;\n",
       "    }\n",
       "</style>\n",
       "<table border=\"1\" class=\"dataframe\">\n",
       "  <thead>\n",
       "    <tr style=\"text-align: right;\">\n",
       "      <th></th>\n",
       "      <th>Price</th>\n",
       "      <th>Area</th>\n",
       "      <th>Location</th>\n",
       "      <th>No. of Bedrooms</th>\n",
       "      <th>PriceByArea</th>\n",
       "      <th>AreaByBedrooms</th>\n",
       "    </tr>\n",
       "  </thead>\n",
       "  <tbody>\n",
       "    <tr>\n",
       "      <th>3377</th>\n",
       "      <td>5600000</td>\n",
       "      <td>560</td>\n",
       "      <td>KHARGHAR</td>\n",
       "      <td>1</td>\n",
       "      <td>10000.000000</td>\n",
       "      <td>560.000000</td>\n",
       "    </tr>\n",
       "    <tr>\n",
       "      <th>5277</th>\n",
       "      <td>6187000</td>\n",
       "      <td>990</td>\n",
       "      <td>DOMBIVALI</td>\n",
       "      <td>2</td>\n",
       "      <td>6249.494949</td>\n",
       "      <td>495.000000</td>\n",
       "    </tr>\n",
       "    <tr>\n",
       "      <th>1816</th>\n",
       "      <td>4000000</td>\n",
       "      <td>625</td>\n",
       "      <td>SECTOR 18 KAMOTHE</td>\n",
       "      <td>1</td>\n",
       "      <td>6400.000000</td>\n",
       "      <td>625.000000</td>\n",
       "    </tr>\n",
       "    <tr>\n",
       "      <th>902</th>\n",
       "      <td>9900000</td>\n",
       "      <td>1150</td>\n",
       "      <td>KHARGHAR</td>\n",
       "      <td>2</td>\n",
       "      <td>8608.695652</td>\n",
       "      <td>575.000000</td>\n",
       "    </tr>\n",
       "    <tr>\n",
       "      <th>4121</th>\n",
       "      <td>9800000</td>\n",
       "      <td>1250</td>\n",
       "      <td>MIRA ROAD EAST</td>\n",
       "      <td>3</td>\n",
       "      <td>7840.000000</td>\n",
       "      <td>416.666667</td>\n",
       "    </tr>\n",
       "    <tr>\n",
       "      <th>3456</th>\n",
       "      <td>15000000</td>\n",
       "      <td>1200</td>\n",
       "      <td>KHARGHAR</td>\n",
       "      <td>2</td>\n",
       "      <td>12500.000000</td>\n",
       "      <td>600.000000</td>\n",
       "    </tr>\n",
       "    <tr>\n",
       "      <th>2759</th>\n",
       "      <td>6500000</td>\n",
       "      <td>400</td>\n",
       "      <td>BORIVALI WEST</td>\n",
       "      <td>1</td>\n",
       "      <td>16250.000000</td>\n",
       "      <td>400.000000</td>\n",
       "    </tr>\n",
       "    <tr>\n",
       "      <th>122</th>\n",
       "      <td>4300000</td>\n",
       "      <td>640</td>\n",
       "      <td>KHARGHAR</td>\n",
       "      <td>1</td>\n",
       "      <td>6718.750000</td>\n",
       "      <td>640.000000</td>\n",
       "    </tr>\n",
       "    <tr>\n",
       "      <th>4501</th>\n",
       "      <td>3920000</td>\n",
       "      <td>1120</td>\n",
       "      <td>BOISAR</td>\n",
       "      <td>3</td>\n",
       "      <td>3500.000000</td>\n",
       "      <td>373.333333</td>\n",
       "    </tr>\n",
       "    <tr>\n",
       "      <th>5007</th>\n",
       "      <td>8500000</td>\n",
       "      <td>840</td>\n",
       "      <td>THANE WEST</td>\n",
       "      <td>2</td>\n",
       "      <td>10119.047619</td>\n",
       "      <td>420.000000</td>\n",
       "    </tr>\n",
       "  </tbody>\n",
       "</table>\n",
       "</div>"
      ],
      "text/plain": [
       "         Price  Area           Location  No. of Bedrooms   PriceByArea  \\\n",
       "3377   5600000   560           KHARGHAR                1  10000.000000   \n",
       "5277   6187000   990          DOMBIVALI                2   6249.494949   \n",
       "1816   4000000   625  SECTOR 18 KAMOTHE                1   6400.000000   \n",
       "902    9900000  1150           KHARGHAR                2   8608.695652   \n",
       "4121   9800000  1250     MIRA ROAD EAST                3   7840.000000   \n",
       "3456  15000000  1200           KHARGHAR                2  12500.000000   \n",
       "2759   6500000   400      BORIVALI WEST                1  16250.000000   \n",
       "122    4300000   640           KHARGHAR                1   6718.750000   \n",
       "4501   3920000  1120             BOISAR                3   3500.000000   \n",
       "5007   8500000   840         THANE WEST                2  10119.047619   \n",
       "\n",
       "      AreaByBedrooms  \n",
       "3377      560.000000  \n",
       "5277      495.000000  \n",
       "1816      625.000000  \n",
       "902       575.000000  \n",
       "4121      416.666667  \n",
       "3456      600.000000  \n",
       "2759      400.000000  \n",
       "122       640.000000  \n",
       "4501      373.333333  \n",
       "5007      420.000000  "
      ]
     },
     "execution_count": 48,
     "metadata": {},
     "output_type": "execute_result"
    }
   ],
   "source": [
    "data5.sample(10)"
   ]
  },
  {
   "cell_type": "code",
   "execution_count": 49,
   "id": "ec6245f0",
   "metadata": {},
   "outputs": [
    {
     "data": {
      "image/png": "[encoded data removed]",
      "text/plain": [
       "<Figure size 432x288 with 1 Axes>"
      ]
     },
     "metadata": {
      "needs_background": "light"
     },
     "output_type": "display_data"
    }
   ],
   "source": [
    "sns.boxplot(data5[\"AreaByBedrooms\"]);"
   ]
  },
  {
   "cell_type": "code",
   "execution_count": 50,
   "id": "c596695d",
   "metadata": {},
   "outputs": [
    {
     "data": {
      "text/html": [
       "<div>\n",
       "<style scoped>\n",
       "    .dataframe tbody tr th:only-of-type {\n",
       "        vertical-align: middle;\n",
       "    }\n",
       "\n",
       "    .dataframe tbody tr th {\n",
       "        vertical-align: top;\n",
       "    }\n",
       "\n",
       "    .dataframe thead th {\n",
       "        text-align: right;\n",
       "    }\n",
       "</style>\n",
       "<table border=\"1\" class=\"dataframe\">\n",
       "  <thead>\n",
       "    <tr style=\"text-align: right;\">\n",
       "      <th></th>\n",
       "      <th>Price</th>\n",
       "      <th>Area</th>\n",
       "      <th>Location</th>\n",
       "      <th>No. of Bedrooms</th>\n",
       "      <th>PriceByArea</th>\n",
       "      <th>AreaByBedrooms</th>\n",
       "    </tr>\n",
       "  </thead>\n",
       "  <tbody>\n",
       "    <tr>\n",
       "      <th>0</th>\n",
       "      <td>4850000</td>\n",
       "      <td>720</td>\n",
       "      <td>KHARGHAR</td>\n",
       "      <td>1</td>\n",
       "      <td>6736.111111</td>\n",
       "      <td>720.0</td>\n",
       "    </tr>\n",
       "    <tr>\n",
       "      <th>1</th>\n",
       "      <td>4500000</td>\n",
       "      <td>600</td>\n",
       "      <td>KHARGHAR</td>\n",
       "      <td>1</td>\n",
       "      <td>7500.000000</td>\n",
       "      <td>600.0</td>\n",
       "    </tr>\n",
       "    <tr>\n",
       "      <th>2</th>\n",
       "      <td>6700000</td>\n",
       "      <td>650</td>\n",
       "      <td>KHARGHAR</td>\n",
       "      <td>1</td>\n",
       "      <td>10307.692308</td>\n",
       "      <td>650.0</td>\n",
       "    </tr>\n",
       "    <tr>\n",
       "      <th>3</th>\n",
       "      <td>4500000</td>\n",
       "      <td>650</td>\n",
       "      <td>KHARGHAR</td>\n",
       "      <td>1</td>\n",
       "      <td>6923.076923</td>\n",
       "      <td>650.0</td>\n",
       "    </tr>\n",
       "    <tr>\n",
       "      <th>4</th>\n",
       "      <td>5000000</td>\n",
       "      <td>665</td>\n",
       "      <td>KHARGHAR</td>\n",
       "      <td>1</td>\n",
       "      <td>7518.796992</td>\n",
       "      <td>665.0</td>\n",
       "    </tr>\n",
       "  </tbody>\n",
       "</table>\n",
       "</div>"
      ],
      "text/plain": [
       "     Price  Area  Location  No. of Bedrooms   PriceByArea  AreaByBedrooms\n",
       "0  4850000   720  KHARGHAR                1   6736.111111           720.0\n",
       "1  4500000   600  KHARGHAR                1   7500.000000           600.0\n",
       "2  6700000   650  KHARGHAR                1  10307.692308           650.0\n",
       "3  4500000   650  KHARGHAR                1   6923.076923           650.0\n",
       "4  5000000   665  KHARGHAR                1   7518.796992           665.0"
      ]
     },
     "execution_count": 50,
     "metadata": {},
     "output_type": "execute_result"
    }
   ],
   "source": [
    "data5.head()"
   ]
  },
  {
   "cell_type": "code",
   "execution_count": 51,
   "id": "d65f68da",
   "metadata": {},
   "outputs": [
    {
     "data": {
      "text/plain": [
       "765"
      ]
     },
     "execution_count": 51,
     "metadata": {},
     "output_type": "execute_result"
    }
   ],
   "source": [
    "data6 = data5.drop([\"PriceByArea\",\"AreaByBedrooms\"],axis=1)\n",
    "data.shape[0] - data6.shape[0]"
   ]
  },
  {
   "cell_type": "code",
   "execution_count": 52,
   "id": "cd32fae6",
   "metadata": {
    "scrolled": true
   },
   "outputs": [
    {
     "data": {
      "text/html": [
       "<div>\n",
       "<style scoped>\n",
       "    .dataframe tbody tr th:only-of-type {\n",
       "        vertical-align: middle;\n",
       "    }\n",
       "\n",
       "    .dataframe tbody tr th {\n",
       "        vertical-align: top;\n",
       "    }\n",
       "\n",
       "    .dataframe thead th {\n",
       "        text-align: right;\n",
       "    }\n",
       "</style>\n",
       "<table border=\"1\" class=\"dataframe\">\n",
       "  <thead>\n",
       "    <tr style=\"text-align: right;\">\n",
       "      <th></th>\n",
       "      <th>Price</th>\n",
       "      <th>Area</th>\n",
       "      <th>Location</th>\n",
       "      <th>No. of Bedrooms</th>\n",
       "    </tr>\n",
       "  </thead>\n",
       "  <tbody>\n",
       "    <tr>\n",
       "      <th>0</th>\n",
       "      <td>4850000</td>\n",
       "      <td>720</td>\n",
       "      <td>KHARGHAR</td>\n",
       "      <td>1</td>\n",
       "    </tr>\n",
       "    <tr>\n",
       "      <th>1</th>\n",
       "      <td>4500000</td>\n",
       "      <td>600</td>\n",
       "      <td>KHARGHAR</td>\n",
       "      <td>1</td>\n",
       "    </tr>\n",
       "    <tr>\n",
       "      <th>2</th>\n",
       "      <td>6700000</td>\n",
       "      <td>650</td>\n",
       "      <td>KHARGHAR</td>\n",
       "      <td>1</td>\n",
       "    </tr>\n",
       "    <tr>\n",
       "      <th>3</th>\n",
       "      <td>4500000</td>\n",
       "      <td>650</td>\n",
       "      <td>KHARGHAR</td>\n",
       "      <td>1</td>\n",
       "    </tr>\n",
       "    <tr>\n",
       "      <th>4</th>\n",
       "      <td>5000000</td>\n",
       "      <td>665</td>\n",
       "      <td>KHARGHAR</td>\n",
       "      <td>1</td>\n",
       "    </tr>\n",
       "  </tbody>\n",
       "</table>\n",
       "</div>"
      ],
      "text/plain": [
       "     Price  Area  Location  No. of Bedrooms\n",
       "0  4850000   720  KHARGHAR                1\n",
       "1  4500000   600  KHARGHAR                1\n",
       "2  6700000   650  KHARGHAR                1\n",
       "3  4500000   650  KHARGHAR                1\n",
       "4  5000000   665  KHARGHAR                1"
      ]
     },
     "execution_count": 52,
     "metadata": {},
     "output_type": "execute_result"
    }
   ],
   "source": [
    "data6.head()"
   ]
  },
  {
   "cell_type": "code",
   "execution_count": 53,
   "id": "bfd22ba7",
   "metadata": {},
   "outputs": [
    {
     "name": "stdout",
     "output_type": "stream",
     "text": [
      "Price : count    6.347000e+03\n",
      "mean     1.515401e+07\n",
      "std      2.015943e+07\n",
      "min      2.000000e+06\n",
      "25%      5.300000e+06\n",
      "50%      9.500000e+06\n",
      "75%      1.750000e+07\n",
      "max      4.200000e+08\n",
      "Name: Price, dtype: float64\n",
      "\n",
      "Area : count    6347.000000\n",
      "mean     1004.327084\n",
      "std       556.375703\n",
      "min       200.000000\n",
      "25%       650.000000\n",
      "50%       905.000000\n",
      "75%      1182.000000\n",
      "max      8511.000000\n",
      "Name: Area, dtype: float64\n",
      "\n",
      "Location : count         6347\n",
      "unique         413\n",
      "top       Kharghar\n",
      "freq           533\n",
      "Name: Location, dtype: object\n",
      "\n",
      "No. of Bedrooms : count    6347.000000\n",
      "mean        1.910036\n",
      "std         0.863304\n",
      "min         1.000000\n",
      "25%         1.000000\n",
      "50%         2.000000\n",
      "75%         2.000000\n",
      "max         7.000000\n",
      "Name: No. of Bedrooms, dtype: float64\n",
      "\n"
     ]
    }
   ],
   "source": [
    "for col in data6:\n",
    "        print(f'{col} : {data[col].describe()}\\n')"
   ]
  },
  {
   "cell_type": "code",
   "execution_count": 54,
   "id": "56445308",
   "metadata": {},
   "outputs": [
    {
     "data": {
      "text/plain": [
       "array([  0,   1,   2,   3,   4,   5,   6,   7,   8,   9,  10,  11,  12,\n",
       "        13,  14,  15,  16,  17,  18,  19,  20,  21,  22,  23,  24,  25,\n",
       "        26,  27,  28,  29,  30,  31,  32,  33,  34,  35,  36,  37,  38,\n",
       "        39,  40,  41,  42,  43,  44,  45,  46,  47,  48,  49,  50,  51,\n",
       "        52,  53,  54,  55,  56,  57,  58,  59,  60,  61,  62,  63,  64,\n",
       "        65,  66,  67,  68,  69,  70,  71,  72,  73,  74,  75,  76,  77,\n",
       "        78,  79,  80,  81,  82,  83,  84,  85,  86,  87,  88,  89,  90,\n",
       "        91,  92,  93,  94,  95,  96,  97,  98,  99, 100, 101, 102, 103,\n",
       "       104, 105, 106, 107, 108, 109, 110, 111, 112, 113, 114, 115, 116,\n",
       "       117, 118, 119, 120, 121, 122, 123, 124, 125, 126, 127, 128, 129,\n",
       "       130, 131, 132, 133, 134, 135, 136, 137, 138, 139, 140, 141, 142,\n",
       "       143, 144, 145, 146, 147, 148, 149, 150, 151, 152, 153, 154, 155,\n",
       "       156, 157, 158, 159, 160, 161, 162, 163, 164, 165, 166, 167, 168,\n",
       "       169, 170, 171, 172, 173, 174, 175, 176, 177, 178, 179, 180, 181,\n",
       "       182, 183, 184, 185, 186, 187, 188, 189, 190, 191, 192, 193, 194,\n",
       "       195, 196, 197, 198, 199, 200, 201, 202, 203, 204, 205, 206, 207,\n",
       "       208, 209, 210, 211, 212, 213, 214, 215, 216, 217, 218], dtype=int64)"
      ]
     },
     "execution_count": 54,
     "metadata": {},
     "output_type": "execute_result"
    }
   ],
   "source": [
    "Loc = {v:k for k, v in enumerate(data6.Location.unique())}\n",
    "data6.Location = data6.Location.map(Loc)\n",
    "data6.Location.unique()"
   ]
  },
  {
   "cell_type": "code",
   "execution_count": 55,
   "id": "7cbc42ab",
   "metadata": {},
   "outputs": [],
   "source": [
    "X = data6.drop([\"Price\"],axis=1)\n",
    "y = data6[\"Price\"]"
   ]
  },
  {
   "cell_type": "code",
   "execution_count": 56,
   "id": "a79c9771",
   "metadata": {},
   "outputs": [
    {
     "data": {
      "text/html": [
       "<div>\n",
       "<style scoped>\n",
       "    .dataframe tbody tr th:only-of-type {\n",
       "        vertical-align: middle;\n",
       "    }\n",
       "\n",
       "    .dataframe tbody tr th {\n",
       "        vertical-align: top;\n",
       "    }\n",
       "\n",
       "    .dataframe thead th {\n",
       "        text-align: right;\n",
       "    }\n",
       "</style>\n",
       "<table border=\"1\" class=\"dataframe\">\n",
       "  <thead>\n",
       "    <tr style=\"text-align: right;\">\n",
       "      <th></th>\n",
       "      <th>Area</th>\n",
       "      <th>Location</th>\n",
       "      <th>No. of Bedrooms</th>\n",
       "    </tr>\n",
       "  </thead>\n",
       "  <tbody>\n",
       "    <tr>\n",
       "      <th>0</th>\n",
       "      <td>720</td>\n",
       "      <td>0</td>\n",
       "      <td>1</td>\n",
       "    </tr>\n",
       "    <tr>\n",
       "      <th>1</th>\n",
       "      <td>600</td>\n",
       "      <td>0</td>\n",
       "      <td>1</td>\n",
       "    </tr>\n",
       "    <tr>\n",
       "      <th>2</th>\n",
       "      <td>650</td>\n",
       "      <td>0</td>\n",
       "      <td>1</td>\n",
       "    </tr>\n",
       "    <tr>\n",
       "      <th>3</th>\n",
       "      <td>650</td>\n",
       "      <td>0</td>\n",
       "      <td>1</td>\n",
       "    </tr>\n",
       "    <tr>\n",
       "      <th>4</th>\n",
       "      <td>665</td>\n",
       "      <td>0</td>\n",
       "      <td>1</td>\n",
       "    </tr>\n",
       "  </tbody>\n",
       "</table>\n",
       "</div>"
      ],
      "text/plain": [
       "   Area  Location  No. of Bedrooms\n",
       "0   720         0                1\n",
       "1   600         0                1\n",
       "2   650         0                1\n",
       "3   650         0                1\n",
       "4   665         0                1"
      ]
     },
     "execution_count": 56,
     "metadata": {},
     "output_type": "execute_result"
    }
   ],
   "source": [
    "X.head()"
   ]
  },
  {
   "cell_type": "code",
   "execution_count": 57,
   "id": "132e13a7",
   "metadata": {},
   "outputs": [
    {
     "data": {
      "text/plain": [
       "0    4850000\n",
       "1    4500000\n",
       "2    6700000\n",
       "3    4500000\n",
       "4    5000000\n",
       "Name: Price, dtype: int64"
      ]
     },
     "execution_count": 57,
     "metadata": {},
     "output_type": "execute_result"
    }
   ],
   "source": [
    "y.head()"
   ]
  },
  {
   "cell_type": "code",
   "execution_count": 58,
   "id": "6a6a10ca",
   "metadata": {},
   "outputs": [],
   "source": [
    "X_train,X_test,y_train,y_test = train_test_split(X,y,test_size=0.2,random_state=42)"
   ]
  },
  {
   "cell_type": "code",
   "execution_count": 59,
   "id": "4ff5e04c",
   "metadata": {},
   "outputs": [],
   "source": [
    "scaler = StandardScaler()\n",
    "X_train = scaler.fit_transform(X_train)\n",
    "X_test = scaler.transform(X_test)\n",
    "pickle.dump(scaler,open('scaling.pkl','wb'))"
   ]
  },
  {
   "cell_type": "code",
   "execution_count": 60,
   "id": "ae5cf72d",
   "metadata": {},
   "outputs": [],
   "source": [
    "model = XGBRegressor()"
   ]
  },
  {
   "cell_type": "code",
   "execution_count": 61,
   "id": "cb459796",
   "metadata": {},
   "outputs": [
    {
     "data": {
      "text/plain": [
       "XGBRegressor(base_score=0.5, booster='gbtree', callbacks=None,\n",
       "             colsample_bylevel=1, colsample_bynode=1, colsample_bytree=1,\n",
       "             early_stopping_rounds=None, enable_categorical=False,\n",
       "             eval_metric=None, feature_types=None, gamma=0, gpu_id=-1,\n",
       "             grow_policy='depthwise', importance_type=None,\n",
       "             interaction_constraints='', learning_rate=0.300000012, max_bin=256,\n",
       "             max_cat_threshold=64, max_cat_to_onehot=4, max_delta_step=0,\n",
       "             max_depth=6, max_leaves=0, min_child_weight=1, missing=nan,\n",
       "             monotone_constraints='()', n_estimators=100, n_jobs=0,\n",
       "             num_parallel_tree=1, predictor='auto', random_state=0, ...)"
      ]
     },
     "execution_count": 61,
     "metadata": {},
     "output_type": "execute_result"
    }
   ],
   "source": [
    "model.fit(X_train,y_train)"
   ]
  },
  {
   "cell_type": "code",
   "execution_count": 62,
   "id": "19f52d57",
   "metadata": {},
   "outputs": [
    {
     "data": {
      "text/plain": [
       "0.8350737896361149"
      ]
     },
     "execution_count": 62,
     "metadata": {},
     "output_type": "execute_result"
    }
   ],
   "source": [
    "model.score(X_test,y_test)"
   ]
  },
  {
   "cell_type": "code",
   "execution_count": 63,
   "id": "7db30355",
   "metadata": {},
   "outputs": [],
   "source": [
    "y_pred = model.predict(X_test)"
   ]
  },
  {
   "cell_type": "code",
   "execution_count": 64,
   "id": "1dafdfeb",
   "metadata": {},
   "outputs": [
    {
     "data": {
      "image/png": "[encoded data removed]",
      "text/plain": [
       "<Figure size 432x288 with 1 Axes>"
      ]
     },
     "metadata": {
      "needs_background": "light"
     },
     "output_type": "display_data"
    }
   ],
   "source": [
    "sns.regplot(y_pred,y_test, line_kws={'color':'red'});"
   ]
  },
  {
   "cell_type": "code",
   "execution_count": 65,
   "id": "b027e765",
   "metadata": {},
   "outputs": [
    {
     "data": {
      "image/png": "[encoded data removed]",
      "text/plain": [
       "<Figure size 360x360 with 1 Axes>"
      ]
     },
     "metadata": {
      "needs_background": "light"
     },
     "output_type": "display_data"
    }
   ],
   "source": [
    "residuals = y_test-y_pred\n",
    "sns.displot(residuals,kind='kde');"
   ]
  },
  {
   "cell_type": "code",
   "execution_count": 66,
   "id": "cf07a724",
   "metadata": {},
   "outputs": [
    {
     "data": {
      "image/png": "[encoded data removed]",
      "text/plain": [
       "<Figure size 432x288 with 1 Axes>"
      ]
     },
     "metadata": {
      "needs_background": "light"
     },
     "output_type": "display_data"
    }
   ],
   "source": [
    "sns.scatterplot(y_pred,residuals);"
   ]
  },
  {
   "cell_type": "code",
   "execution_count": 67,
   "id": "b8af571d",
   "metadata": {},
   "outputs": [
    {
     "data": {
      "text/plain": [
       "0.8350737896361149"
      ]
     },
     "execution_count": 67,
     "metadata": {},
     "output_type": "execute_result"
    }
   ],
   "source": [
    "r2_score(y_test,y_pred)"
   ]
  },
  {
   "cell_type": "code",
   "execution_count": 68,
   "id": "f070355d",
   "metadata": {},
   "outputs": [],
   "source": [
    "pickle.dump(model,open('model.pkl','wb'))"
   ]
  },
  {
   "cell_type": "code",
   "execution_count": 69,
   "id": "56be0661",
   "metadata": {},
   "outputs": [
    {
     "data": {
      "text/plain": [
       "0.8350737896361149"
      ]
     },
     "execution_count": 69,
     "metadata": {},
     "output_type": "execute_result"
    }
   ],
   "source": [
    "pickled_model = pickle.load(open('model.pkl','rb'))\n",
    "pickled_model.score(X_test,y_test)"
   ]
  },
  {
   "cell_type": "code",
   "execution_count": null,
   "id": "6f0f11a5",
   "metadata": {},
   "outputs": [],
   "source": []
  }
 ],
 "metadata": {
  "kernelspec": {
   "display_name": "Python 3 (ipykernel)",
   "language": "python",
   "name": "python3"
  },
  "language_info": {
   "codemirror_mode": {
    "name": "ipython",
    "version": 3
   },
   "file_extension": ".py",
   "mimetype": "text/x-python",
   "name": "python",
   "nbconvert_exporter": "python",
   "pygments_lexer": "ipython3",
   "version": "3.9.7"
  }
 },
 "nbformat": 4,
 "nbformat_minor": 5
}
